{
  "nbformat": 4,
  "nbformat_minor": 0,
  "metadata": {
    "colab": {
      "provenance": [],
      "authorship_tag": "ABX9TyNLjbblZbapzX37I1/EzmIa",
      "include_colab_link": true
    },
    "kernelspec": {
      "name": "python3",
      "display_name": "Python 3"
    },
    "language_info": {
      "name": "python"
    }
  },
  "cells": [
    {
      "cell_type": "markdown",
      "metadata": {
        "id": "view-in-github",
        "colab_type": "text"
      },
      "source": [
        "<a href=\"https://colab.research.google.com/github/Jaipalsinghrajput11/Regex-Python-Programming-Assignments/blob/main/Assignments.ipynb\" target=\"_parent\"><img src=\"https://colab.research.google.com/assets/colab-badge.svg\" alt=\"Open In Colab\"/></a>"
      ]
    },
    {
      "cell_type": "code",
      "source": [
        "company=\"regex software\"\n",
        "year=2023"
      ],
      "metadata": {
        "id": "EnmSMxcpoIXr"
      },
      "execution_count": null,
      "outputs": []
    },
    {
      "cell_type": "code",
      "source": [
        "print(\"hey this is data\",year, company)"
      ],
      "metadata": {
        "colab": {
          "base_uri": "https://localhost:8080/"
        },
        "id": "zYO2AShZoXeD",
        "outputId": "7c0710e3-e10a-41a8-9407-2c74a947c3a0"
      },
      "execution_count": null,
      "outputs": [
        {
          "output_type": "stream",
          "name": "stdout",
          "text": [
            "hey this is data 2023 regex software\n"
          ]
        }
      ]
    },
    {
      "cell_type": "code",
      "source": [
        "x=10\n",
        "print(x)\n",
        "\n",
        "x=20\n",
        "print(x)"
      ],
      "metadata": {
        "colab": {
          "base_uri": "https://localhost:8080/"
        },
        "id": "ltSJWwvmob47",
        "outputId": "8dd81afc-920c-4b70-8aa5-6c32bf44e863"
      },
      "execution_count": null,
      "outputs": [
        {
          "output_type": "stream",
          "name": "stdout",
          "text": [
            "10\n",
            "20\n"
          ]
        }
      ]
    },
    {
      "cell_type": "code",
      "source": [
        "print(id(x))"
      ],
      "metadata": {
        "colab": {
          "base_uri": "https://localhost:8080/"
        },
        "id": "7RSn2vtlperS",
        "outputId": "182853ef-d91b-4f07-a37d-ecb29b2e7fce"
      },
      "execution_count": null,
      "outputs": [
        {
          "output_type": "stream",
          "name": "stdout",
          "text": [
            "140266916266832\n"
          ]
        }
      ]
    },
    {
      "cell_type": "code",
      "source": [
        "z=20\n",
        "y=20\n",
        "print(id(z))"
      ],
      "metadata": {
        "colab": {
          "base_uri": "https://localhost:8080/"
        },
        "id": "zXcIJH5oqhre",
        "outputId": "f78c9cfd-1a72-41ad-fa76-76e9edefdddf"
      },
      "execution_count": null,
      "outputs": [
        {
          "output_type": "stream",
          "name": "stdout",
          "text": [
            "140266916266832\n"
          ]
        }
      ]
    },
    {
      "cell_type": "code",
      "source": [
        "print(id(y))"
      ],
      "metadata": {
        "colab": {
          "base_uri": "https://localhost:8080/"
        },
        "id": "d3CUxEJxqyzp",
        "outputId": "c229829e-49dd-40c2-8f6f-fb7332080565"
      },
      "execution_count": null,
      "outputs": [
        {
          "output_type": "stream",
          "name": "stdout",
          "text": [
            "140266916266832\n"
          ]
        }
      ]
    },
    {
      "cell_type": "code",
      "source": [
        "y=20"
      ],
      "metadata": {
        "id": "J4mcwrn0q1UI"
      },
      "execution_count": null,
      "outputs": []
    },
    {
      "cell_type": "code",
      "source": [
        "print(id(y))"
      ],
      "metadata": {
        "colab": {
          "base_uri": "https://localhost:8080/"
        },
        "id": "ZLHuCHpqrOh_",
        "outputId": "dc7dd620-ae8a-45e7-f8c0-5eed9a5e9644"
      },
      "execution_count": null,
      "outputs": [
        {
          "output_type": "stream",
          "name": "stdout",
          "text": [
            "140266916266832\n"
          ]
        }
      ]
    },
    {
      "cell_type": "code",
      "source": [
        "z=30\n",
        "print(id(z))"
      ],
      "metadata": {
        "colab": {
          "base_uri": "https://localhost:8080/"
        },
        "id": "tR9hjDU4rQq9",
        "outputId": "3f5346f4-d253-4ea2-eb8c-62f63d83dc4f"
      },
      "execution_count": null,
      "outputs": [
        {
          "output_type": "stream",
          "name": "stdout",
          "text": [
            "140266916267152\n"
          ]
        }
      ]
    },
    {
      "cell_type": "code",
      "source": [
        "print (f\"Data is:{company} Year is {year}\")"
      ],
      "metadata": {
        "colab": {
          "base_uri": "https://localhost:8080/"
        },
        "id": "ljf6E2UCrbF7",
        "outputId": "4e8dcbad-eea0-4c94-b3a7-cc3a92022ebf"
      },
      "execution_count": null,
      "outputs": [
        {
          "output_type": "stream",
          "name": "stdout",
          "text": [
            "Data is:regex software Year is 2023\n"
          ]
        }
      ]
    },
    {
      "cell_type": "code",
      "source": [
        "4**3"
      ],
      "metadata": {
        "colab": {
          "base_uri": "https://localhost:8080/"
        },
        "id": "nkBUgyjRSOE_",
        "outputId": "ec5f19fd-9b90-413e-b3ff-ed68b8d0d6ce"
      },
      "execution_count": null,
      "outputs": [
        {
          "output_type": "execute_result",
          "data": {
            "text/plain": [
              "64"
            ]
          },
          "metadata": {},
          "execution_count": 4
        }
      ]
    },
    {
      "cell_type": "code",
      "source": [
        "10+4-2*4/1+9"
      ],
      "metadata": {
        "colab": {
          "base_uri": "https://localhost:8080/"
        },
        "id": "Ygph82VhST8Y",
        "outputId": "48237d11-3d06-4f47-f006-baa5fbe8b54c"
      },
      "execution_count": null,
      "outputs": [
        {
          "output_type": "execute_result",
          "data": {
            "text/plain": [
              "15.0"
            ]
          },
          "metadata": {},
          "execution_count": 5
        }
      ]
    },
    {
      "cell_type": "code",
      "source": [
        "salary = 100\n",
        "salary *=5\n"
      ],
      "metadata": {
        "id": "MPIcX_38StxE"
      },
      "execution_count": null,
      "outputs": []
    },
    {
      "cell_type": "code",
      "source": [
        "print(salary)"
      ],
      "metadata": {
        "colab": {
          "base_uri": "https://localhost:8080/"
        },
        "id": "mWD4Zb-kVGmn",
        "outputId": "6a808572-4350-4848-85b8-9ab4d381be26"
      },
      "execution_count": null,
      "outputs": [
        {
          "output_type": "stream",
          "name": "stdout",
          "text": [
            "500\n"
          ]
        }
      ]
    },
    {
      "cell_type": "code",
      "source": [
        "num=5\n",
        "num**=4"
      ],
      "metadata": {
        "id": "T6y4sCfSVORt"
      },
      "execution_count": null,
      "outputs": []
    },
    {
      "cell_type": "code",
      "source": [
        "print(num)"
      ],
      "metadata": {
        "colab": {
          "base_uri": "https://localhost:8080/"
        },
        "id": "Haapkf-hVSaB",
        "outputId": "1d863671-70bd-4929-ff16-ff1b5c61f510"
      },
      "execution_count": null,
      "outputs": [
        {
          "output_type": "stream",
          "name": "stdout",
          "text": [
            "625\n"
          ]
        }
      ]
    },
    {
      "cell_type": "code",
      "source": [
        "age=18\n",
        "\n",
        "if(age>=18):\n",
        "  print(\"Age is greater than equal to 18\")\n",
        "\n",
        "elif(age==19):\n",
        "  print(\"Age is 19\")\n",
        "\n",
        "else:\n",
        "  print(\"Value is  less\")"
      ],
      "metadata": {
        "colab": {
          "base_uri": "https://localhost:8080/"
        },
        "id": "eoPkOt_iVUiw",
        "outputId": "347c75fd-3951-4e17-db32-f51fd5db7073"
      },
      "execution_count": null,
      "outputs": [
        {
          "output_type": "stream",
          "name": "stdout",
          "text": [
            "Age is greater than equal to 18\n"
          ]
        }
      ]
    },
    {
      "cell_type": "code",
      "source": [
        "age=18\n",
        "\n",
        "if(age==18 or age==19):\n",
        "  print(\"Age is equal to 18 or 19\")\n",
        "\n",
        "else:\n",
        "  print(\"Value is  less\")"
      ],
      "metadata": {
        "colab": {
          "base_uri": "https://localhost:8080/"
        },
        "id": "HvuDRI6pjddw",
        "outputId": "c443aca0-fcab-49ec-b6dd-fa7c5eac0258"
      },
      "execution_count": null,
      "outputs": [
        {
          "output_type": "stream",
          "name": "stdout",
          "text": [
            "Age is equal to 18 or 19\n"
          ]
        }
      ]
    },
    {
      "cell_type": "code",
      "source": [
        "num1=15\n",
        "num2=10\n",
        "num3=30\n",
        "\n",
        "if num2>num3 :\n",
        "  if(num1>num2):\n",
        "    print(\"num1 is greater than num2\")\n",
        "elif(num2>num1):\n",
        "    print(\"num2 is biggest\")\n",
        "else:\n",
        "    print(\"num3 is biggest\")"
      ],
      "metadata": {
        "colab": {
          "base_uri": "https://localhost:8080/"
        },
        "id": "ruiYg7gBjxfJ",
        "outputId": "64d5e20f-db86-460c-ac0b-95c257ee7f3f"
      },
      "execution_count": null,
      "outputs": [
        {
          "output_type": "stream",
          "name": "stdout",
          "text": [
            "num3 is biggest\n"
          ]
        }
      ]
    },
    {
      "cell_type": "code",
      "source": [
        "x=\"abc\"\n",
        "print(type(x))"
      ],
      "metadata": {
        "colab": {
          "base_uri": "https://localhost:8080/"
        },
        "id": "nY2bNwEVlvil",
        "outputId": "03d0740c-b2e7-4209-f789-afc1fa30f538"
      },
      "execution_count": null,
      "outputs": [
        {
          "output_type": "stream",
          "name": "stdout",
          "text": [
            "<class 'str'>\n"
          ]
        }
      ]
    },
    {
      "cell_type": "code",
      "source": [
        "n=0\n",
        "while n<10:\n",
        "    if n%2==0 and n%3==0:\n",
        "        print( n,'is divisible by 6')\n",
        "    n=n+1"
      ],
      "metadata": {
        "colab": {
          "base_uri": "https://localhost:8080/"
        },
        "id": "6IvlIZ_3mjLg",
        "outputId": "01daefea-5da8-449d-845a-45cd4802d679"
      },
      "execution_count": null,
      "outputs": [
        {
          "output_type": "stream",
          "name": "stdout",
          "text": [
            "0 is divisible by 6\n",
            "6 is divisible by 6\n"
          ]
        }
      ]
    },
    {
      "cell_type": "code",
      "source": [
        "age=18\n",
        "name= \"jaipal\"\n",
        "\n",
        "if(age==18):\n",
        "  if(name==\"jaipal\"):\n",
        "    print(\"Name is\" ,name ,age)\n",
        "  else:\n",
        "    print(\"Name is not jaipal\")"
      ],
      "metadata": {
        "colab": {
          "base_uri": "https://localhost:8080/"
        },
        "id": "H6mugw4BnEVu",
        "outputId": "744f85b9-987b-4a97-d970-8f108f1b6887"
      },
      "execution_count": null,
      "outputs": [
        {
          "output_type": "stream",
          "name": "stdout",
          "text": [
            "Name is jaipal 18\n"
          ]
        }
      ]
    },
    {
      "cell_type": "code",
      "source": [
        "x=input(\"Enter a number:\")\n",
        "print(x)\n"
      ],
      "metadata": {
        "colab": {
          "base_uri": "https://localhost:8080/"
        },
        "id": "CXdYO2V2oZf1",
        "outputId": "5d90aef2-627e-40e3-fa98-9186016d1af1"
      },
      "execution_count": null,
      "outputs": [
        {
          "output_type": "stream",
          "name": "stdout",
          "text": [
            "Enter a number:hyy\n",
            "hyy\n"
          ]
        }
      ]
    },
    {
      "cell_type": "code",
      "source": [
        "x=int(input(\"enter a number:\"))\n",
        "print(x,type(x))\n",
        "if(16 <= x <= 20):\n",
        "  print(\"x is between 16 to 20\")\n",
        "else:\n",
        "  print(\"x is not between 16 to 20\")\n"
      ],
      "metadata": {
        "colab": {
          "base_uri": "https://localhost:8080/"
        },
        "id": "bhTrbgGVoyp4",
        "outputId": "25853614-c3d7-423a-ea5f-43cd9a3bc3f7"
      },
      "execution_count": null,
      "outputs": [
        {
          "output_type": "stream",
          "name": "stdout",
          "text": [
            "enter a number:16\n",
            "16 <class 'int'>\n",
            "x is between 16 to 20\n"
          ]
        }
      ]
    },
    {
      "cell_type": "code",
      "source": [
        "for count in range(1,6,2):\n",
        "  print(count)"
      ],
      "metadata": {
        "colab": {
          "base_uri": "https://localhost:8080/"
        },
        "id": "gcSqz4Z6pehN",
        "outputId": "a920730a-e4df-479d-b963-731d6a50a8a1"
      },
      "execution_count": null,
      "outputs": [
        {
          "output_type": "stream",
          "name": "stdout",
          "text": [
            "1\n",
            "3\n",
            "5\n"
          ]
        }
      ]
    },
    {
      "cell_type": "code",
      "source": [
        "for count in range(10,25,3):\n",
        "  if(count%2==0):\n",
        "    print(count)"
      ],
      "metadata": {
        "colab": {
          "base_uri": "https://localhost:8080/"
        },
        "id": "IgxCxSWWuR_y",
        "outputId": "ae2ea074-7bd4-497d-993e-1e21e88d24db"
      },
      "execution_count": null,
      "outputs": [
        {
          "output_type": "stream",
          "name": "stdout",
          "text": [
            "10\n",
            "16\n",
            "22\n"
          ]
        }
      ]
    },
    {
      "cell_type": "code",
      "source": [
        "data= \"jaipur\"\n",
        "for chr in data:\n",
        "  print(chr)"
      ],
      "metadata": {
        "colab": {
          "base_uri": "https://localhost:8080/"
        },
        "id": "jDI_u3g_u4H9",
        "outputId": "560af0d0-8044-4a07-a317-51974cc9ff0e"
      },
      "execution_count": null,
      "outputs": [
        {
          "output_type": "stream",
          "name": "stdout",
          "text": [
            "j\n",
            "a\n",
            "i\n",
            "p\n",
            "u\n",
            "r\n"
          ]
        }
      ]
    },
    {
      "cell_type": "code",
      "source": [
        "city=\"Jaipur\"\n",
        "\n",
        "for index in range(0,len(city)):\n",
        "   print(index, city[index])"
      ],
      "metadata": {
        "colab": {
          "base_uri": "https://localhost:8080/"
        },
        "id": "C_SHPOvfv-da",
        "outputId": "ab3d2be3-1377-475e-f1e8-02eef61f51ff"
      },
      "execution_count": null,
      "outputs": [
        {
          "output_type": "stream",
          "name": "stdout",
          "text": [
            "0 J\n",
            "1 a\n",
            "2 i\n",
            "3 p\n",
            "4 u\n",
            "5 r\n"
          ]
        }
      ]
    },
    {
      "cell_type": "code",
      "source": [
        "city=\"Jaipur\"\n",
        "\n",
        "for index in range(0,len(city)):\n",
        "   if(index%2==0):\n",
        "    print(index, city[index])"
      ],
      "metadata": {
        "colab": {
          "base_uri": "https://localhost:8080/"
        },
        "id": "Vi6yXnT9xs4I",
        "outputId": "fb3b1648-378f-407f-8782-660f641d52cd"
      },
      "execution_count": null,
      "outputs": [
        {
          "output_type": "stream",
          "name": "stdout",
          "text": [
            "0 J\n",
            "2 i\n",
            "4 u\n"
          ]
        }
      ]
    },
    {
      "cell_type": "code",
      "source": [
        "for count in range(0,10,1):\n",
        "  if(count%2!=0):\n",
        "    print(count)"
      ],
      "metadata": {
        "colab": {
          "base_uri": "https://localhost:8080/"
        },
        "id": "0befSTpW1D4C",
        "outputId": "dab7c82d-215b-4392-eb0c-48c23b6e2868"
      },
      "execution_count": null,
      "outputs": [
        {
          "output_type": "stream",
          "name": "stdout",
          "text": [
            "1\n",
            "3\n",
            "5\n",
            "7\n",
            "9\n"
          ]
        }
      ]
    },
    {
      "cell_type": "code",
      "source": [
        "for var in range(1,5):\n",
        "\n",
        " for count in range(14,16):\n",
        "    print(count, var)"
      ],
      "metadata": {
        "colab": {
          "base_uri": "https://localhost:8080/"
        },
        "id": "jC1aG64w18Hg",
        "outputId": "5f56a6c1-844b-4d1e-841e-7a8dab1c494c"
      },
      "execution_count": null,
      "outputs": [
        {
          "output_type": "stream",
          "name": "stdout",
          "text": [
            "14 1\n",
            "15 1\n",
            "14 2\n",
            "15 2\n",
            "14 3\n",
            "15 3\n",
            "14 4\n",
            "15 4\n"
          ]
        }
      ]
    },
    {
      "cell_type": "code",
      "source": [
        "for rows in range(1,5):\n",
        "\n",
        "  for column in range(1,rows+1):\n",
        "    print('*',end=\" \")\n",
        "\n",
        "  print(\"\")"
      ],
      "metadata": {
        "colab": {
          "base_uri": "https://localhost:8080/"
        },
        "id": "lUN-DezR35vZ",
        "outputId": "db7a5310-4945-4b55-b261-bd4ab2e7cde4"
      },
      "execution_count": null,
      "outputs": [
        {
          "output_type": "stream",
          "name": "stdout",
          "text": [
            "* \n",
            "* * \n",
            "* * * \n",
            "* * * * \n"
          ]
        }
      ]
    },
    {
      "cell_type": "code",
      "source": [
        "for i in range(4, 0, -1):\n",
        "    print('*' * i)"
      ],
      "metadata": {
        "colab": {
          "base_uri": "https://localhost:8080/"
        },
        "id": "YJUvyYtd5MfN",
        "outputId": "fe5ccf99-3461-41b9-c3f5-99cfe1906901"
      },
      "execution_count": null,
      "outputs": [
        {
          "output_type": "stream",
          "name": "stdout",
          "text": [
            "****\n",
            "***\n",
            "**\n",
            "*\n"
          ]
        }
      ]
    },
    {
      "cell_type": "code",
      "source": [
        "for i in range(1, 5):\n",
        "    print('* ' * i)"
      ],
      "metadata": {
        "colab": {
          "base_uri": "https://localhost:8080/"
        },
        "id": "GZaThZ1Ivrkz",
        "outputId": "0865d1ef-bc70-4b4b-8e3e-b84aeab58698"
      },
      "execution_count": null,
      "outputs": [
        {
          "output_type": "stream",
          "name": "stdout",
          "text": [
            "* \n",
            "* * \n",
            "* * * \n",
            "* * * * \n"
          ]
        }
      ]
    },
    {
      "cell_type": "code",
      "source": [
        "for i in range(1, 5):\n",
        "    for j in range(1, i + 1):\n",
        "        print(j, end='')\n",
        "    print()"
      ],
      "metadata": {
        "colab": {
          "base_uri": "https://localhost:8080/"
        },
        "id": "WBOCOVAGwGGn",
        "outputId": "c02f7f9b-011a-42c7-9c85-acf87d68bae1"
      },
      "execution_count": null,
      "outputs": [
        {
          "output_type": "stream",
          "name": "stdout",
          "text": [
            "1\n",
            "12\n",
            "123\n",
            "1234\n"
          ]
        }
      ]
    },
    {
      "cell_type": "code",
      "source": [
        "for i in range(4, 0, -1):\n",
        "    for j in range(i, 0, -1):\n",
        "        print(j, end='')\n",
        "    print()"
      ],
      "metadata": {
        "colab": {
          "base_uri": "https://localhost:8080/"
        },
        "id": "6fwQAvu3wYP_",
        "outputId": "4df7d87b-d447-499d-bd15-3d9a51f7825b"
      },
      "execution_count": null,
      "outputs": [
        {
          "output_type": "stream",
          "name": "stdout",
          "text": [
            "4321\n",
            "321\n",
            "21\n",
            "1\n"
          ]
        }
      ]
    },
    {
      "cell_type": "code",
      "source": [
        "for i in range(4, 0, -1):\n",
        "    for j in range(1, i + 1):\n",
        "        print(j, end='')\n",
        "    print()"
      ],
      "metadata": {
        "colab": {
          "base_uri": "https://localhost:8080/"
        },
        "id": "ipZpyiqPwlLr",
        "outputId": "b75cb013-c4eb-4750-8ed5-1caee0b3914a"
      },
      "execution_count": null,
      "outputs": [
        {
          "output_type": "stream",
          "name": "stdout",
          "text": [
            "1234\n",
            "123\n",
            "12\n",
            "1\n"
          ]
        }
      ]
    },
    {
      "cell_type": "code",
      "source": [
        "num = 1\n",
        "for i in range(1, 5):\n",
        "    for j in range(1, i + 1):\n",
        "        print(num, end='')\n",
        "        num += 1\n",
        "    print()"
      ],
      "metadata": {
        "colab": {
          "base_uri": "https://localhost:8080/"
        },
        "id": "Jil1KjpBw2W8",
        "outputId": "0c0b6b82-6ad4-4332-f2a0-10650179bd5c"
      },
      "execution_count": 30,
      "outputs": [
        {
          "output_type": "stream",
          "name": "stdout",
          "text": [
            "1\n",
            "23\n",
            "456\n",
            "78910\n"
          ]
        }
      ]
    },
    {
      "cell_type": "code",
      "source": [
        "num = input(\"Enter an integer: \")\n",
        "\n",
        "if num.isdigit():\n",
        "    num = int(num)\n",
        "\n",
        "    print(\"Odd numbers between 0 and\", num, \"are:\")\n",
        "    for i in range(num + 1):\n",
        "        if i % 2 != 0:\n",
        "            print(i)\n",
        "else:\n",
        "    print(\"Invalid input. Please enter a valid integer.\")"
      ],
      "metadata": {
        "colab": {
          "base_uri": "https://localhost:8080/"
        },
        "id": "YMpDcmd5xIMF",
        "outputId": "8ea1be78-cfad-48b5-c257-a4c754f7b09b"
      },
      "execution_count": null,
      "outputs": [
        {
          "output_type": "stream",
          "name": "stdout",
          "text": [
            "Enter an integer: 11\n",
            "Odd numbers between 0 and 11 are:\n",
            "1\n",
            "3\n",
            "5\n",
            "7\n",
            "9\n",
            "11\n"
          ]
        }
      ]
    },
    {
      "cell_type": "code",
      "source": [
        "count = 0\n",
        "\n",
        "for num in range(0, 101):\n",
        "    if num > 1:\n",
        "        is_prime = True\n",
        "        for i in range(2, int(num ** 0.5) + 1):\n",
        "            if num % i == 0:\n",
        "                is_prime = False\n",
        "                break\n",
        "        if is_prime:\n",
        "            count += 1\n",
        "print(\"The number of prime numbers between 0 and 100 is:\", count)"
      ],
      "metadata": {
        "colab": {
          "base_uri": "https://localhost:8080/"
        },
        "id": "ee3Q82rUzXnn",
        "outputId": "7f1578be-ae7e-49bb-d539-538c0f171636"
      },
      "execution_count": null,
      "outputs": [
        {
          "output_type": "stream",
          "name": "stdout",
          "text": [
            "The number of prime numbers between 0 and 100 is: 25\n"
          ]
        }
      ]
    },
    {
      "cell_type": "code",
      "source": [
        "count=1\n",
        "while(count<3):\n",
        "  print(count)\n",
        "  count+=1"
      ],
      "metadata": {
        "colab": {
          "base_uri": "https://localhost:8080/"
        },
        "id": "bCwYvY_6wUSf",
        "outputId": "e87b1be4-a5e0-45d3-a66c-c3a0665605e1"
      },
      "execution_count": null,
      "outputs": [
        {
          "output_type": "stream",
          "name": "stdout",
          "text": [
            "1\n",
            "2\n"
          ]
        }
      ]
    },
    {
      "cell_type": "code",
      "source": [
        "data=\"rajasthan\"\n",
        "index=0\n",
        "\n",
        "while(index < len(data)):\n",
        "  print(index, data[index])\n",
        "  index+=1"
      ],
      "metadata": {
        "colab": {
          "base_uri": "https://localhost:8080/"
        },
        "id": "ANuAh6kSwk1H",
        "outputId": "8dd95de5-dda4-4a8f-b753-10c2f3f5414f"
      },
      "execution_count": null,
      "outputs": [
        {
          "output_type": "stream",
          "name": "stdout",
          "text": [
            "0 r\n",
            "1 a\n",
            "2 j\n",
            "3 a\n",
            "4 s\n",
            "5 t\n",
            "6 h\n",
            "7 a\n",
            "8 n\n"
          ]
        }
      ]
    },
    {
      "cell_type": "code",
      "source": [
        "city=\"RAJASTHAN\"\n",
        "city[::-1]"
      ],
      "metadata": {
        "colab": {
          "base_uri": "https://localhost:8080/",
          "height": 35
        },
        "id": "JEx6aX3Iw-p9",
        "outputId": "683f0de4-8847-45c8-d29d-907e85650048"
      },
      "execution_count": 4,
      "outputs": [
        {
          "output_type": "execute_result",
          "data": {
            "text/plain": [
              "'NAHTSAJAR'"
            ],
            "application/vnd.google.colaboratory.intrinsic+json": {
              "type": "string"
            }
          },
          "metadata": {},
          "execution_count": 4
        }
      ]
    },
    {
      "cell_type": "code",
      "source": [
        "name=\"saras\"\n",
        "name[::-1]\n",
        "\n",
        "if(name==name[::-1]):\n",
        "    print(\"Its palindrome\")\n",
        "else:\n",
        "    print(\"not\")"
      ],
      "metadata": {
        "colab": {
          "base_uri": "https://localhost:8080/"
        },
        "id": "24nXOhfGxnxV",
        "outputId": "1593043e-7944-40ec-8cd8-278b01896a89"
      },
      "execution_count": null,
      "outputs": [
        {
          "output_type": "stream",
          "name": "stdout",
          "text": [
            "Its palindrome\n"
          ]
        }
      ]
    },
    {
      "cell_type": "code",
      "source": [
        "#loop conditional\n",
        "\"hey user\"\n",
        "#vowel => a,e,i,o,u\n"
      ],
      "metadata": {
        "colab": {
          "base_uri": "https://localhost:8080/",
          "height": 35
        },
        "id": "-w0dTm8z2z2n",
        "outputId": "1b5ecb52-639a-4785-aac5-1049347170f7"
      },
      "execution_count": null,
      "outputs": [
        {
          "output_type": "execute_result",
          "data": {
            "text/plain": [
              "'hey user'"
            ],
            "application/vnd.google.colaboratory.intrinsic+json": {
              "type": "string"
            }
          },
          "metadata": {},
          "execution_count": 49
        }
      ]
    },
    {
      "cell_type": "code",
      "source": [
        "count=0\n",
        "for i in range(1,10):\n",
        "  if(i%2==0):\n",
        "    count+=1\n",
        "\n",
        "print(\"Final count:\",count)"
      ],
      "metadata": {
        "colab": {
          "base_uri": "https://localhost:8080/"
        },
        "id": "EGZZlyOs3nNS",
        "outputId": "0d600f7f-c8b0-4799-ee82-6e94fb450471"
      },
      "execution_count": null,
      "outputs": [
        {
          "output_type": "stream",
          "name": "stdout",
          "text": [
            "Final count: 4\n"
          ]
        }
      ]
    },
    {
      "cell_type": "code",
      "source": [
        "myList=[10,20,30,\"hey\",(10,20)]\n",
        "\n",
        "myList[0:2]=[99,88,77]\n",
        "myList\n"
      ],
      "metadata": {
        "colab": {
          "base_uri": "https://localhost:8080/"
        },
        "id": "jxVltrmQ3_hK",
        "outputId": "97238653-82a5-4d5e-ff07-32c27be6b470"
      },
      "execution_count": null,
      "outputs": [
        {
          "output_type": "execute_result",
          "data": {
            "text/plain": [
              "[99, 88, 77, 30, 'hey']"
            ]
          },
          "metadata": {},
          "execution_count": 69
        }
      ]
    },
    {
      "cell_type": "code",
      "source": [
        "myList[0:8:1]"
      ],
      "metadata": {
        "colab": {
          "base_uri": "https://localhost:8080/"
        },
        "id": "hslhkp_E5oiw",
        "outputId": "f5b5a4f2-571d-4a7c-e530-402d08351e0f"
      },
      "execution_count": null,
      "outputs": [
        {
          "output_type": "execute_result",
          "data": {
            "text/plain": [
              "[10, 20, 30, 'hey']"
            ]
          },
          "metadata": {},
          "execution_count": 60
        }
      ]
    },
    {
      "cell_type": "code",
      "source": [
        "myList.append([50,60])\n",
        "myList"
      ],
      "metadata": {
        "colab": {
          "base_uri": "https://localhost:8080/"
        },
        "id": "YxKSihSQ6E66",
        "outputId": "5d9c915b-d96a-4542-8f47-c72ee184c151"
      },
      "execution_count": null,
      "outputs": [
        {
          "output_type": "execute_result",
          "data": {
            "text/plain": [
              "[99, 88, 77, 30, 'hey', [50, 60]]"
            ]
          },
          "metadata": {},
          "execution_count": 71
        }
      ]
    },
    {
      "cell_type": "code",
      "source": [
        "myList.extend(\"hi\")\n",
        "myList"
      ],
      "metadata": {
        "colab": {
          "base_uri": "https://localhost:8080/"
        },
        "id": "xvhX52uo9Ann",
        "outputId": "cbc69378-eaeb-4561-e28a-94fe745390db"
      },
      "execution_count": null,
      "outputs": [
        {
          "output_type": "execute_result",
          "data": {
            "text/plain": [
              "[99, 88, 77, 30, 'hey', [50, 60], 'h', 'i', 'h', 'i']"
            ]
          },
          "metadata": {},
          "execution_count": 73
        }
      ]
    },
    {
      "cell_type": "code",
      "source": [
        "myList.extend([100,111])\n",
        "myList"
      ],
      "metadata": {
        "colab": {
          "base_uri": "https://localhost:8080/"
        },
        "id": "ZXde6lPh9XdP",
        "outputId": "505fabc0-d327-4d4f-f311-c1c66622b687"
      },
      "execution_count": null,
      "outputs": [
        {
          "output_type": "execute_result",
          "data": {
            "text/plain": [
              "[99, 88, 77, 30, 'hey', [50, 60], 'h', 'i', 'h', 'i', 100, 111]"
            ]
          },
          "metadata": {},
          "execution_count": 74
        }
      ]
    },
    {
      "cell_type": "code",
      "source": [
        "myList.append(123)\n",
        "myList"
      ],
      "metadata": {
        "colab": {
          "base_uri": "https://localhost:8080/"
        },
        "id": "SfxP6tJG9rL9",
        "outputId": "ccd1791a-96a8-4342-ba77-ffca05346356"
      },
      "execution_count": null,
      "outputs": [
        {
          "output_type": "execute_result",
          "data": {
            "text/plain": [
              "[99, 88, 77, 30, 'hey', [50, 60], 'h', 'i', 'h', 'i', 100, 111, 123]"
            ]
          },
          "metadata": {},
          "execution_count": 75
        }
      ]
    },
    {
      "cell_type": "code",
      "source": [
        "myList.insert(1,\"ABC\")\n",
        "myList"
      ],
      "metadata": {
        "colab": {
          "base_uri": "https://localhost:8080/"
        },
        "id": "Z09i_tdS9wJ1",
        "outputId": "b6e842e5-27f5-4285-bb3d-54cab0c649b3"
      },
      "execution_count": null,
      "outputs": [
        {
          "output_type": "execute_result",
          "data": {
            "text/plain": [
              "[99,\n",
              " 'ABC',\n",
              " 'ABC',\n",
              " 88,\n",
              " 77,\n",
              " 30,\n",
              " 'hey',\n",
              " [50, 60],\n",
              " 'h',\n",
              " 'i',\n",
              " 'h',\n",
              " 'i',\n",
              " 100,\n",
              " 111,\n",
              " 123]"
            ]
          },
          "metadata": {},
          "execution_count": 77
        }
      ]
    },
    {
      "cell_type": "code",
      "source": [
        "myList.pop()"
      ],
      "metadata": {
        "colab": {
          "base_uri": "https://localhost:8080/"
        },
        "id": "968d7ZgB92ec",
        "outputId": "9045fbc0-cd2a-4709-8d1f-ef3b253f25d8"
      },
      "execution_count": null,
      "outputs": [
        {
          "output_type": "execute_result",
          "data": {
            "text/plain": [
              "123"
            ]
          },
          "metadata": {},
          "execution_count": 78
        }
      ]
    },
    {
      "cell_type": "code",
      "source": [
        "myList.pop()"
      ],
      "metadata": {
        "colab": {
          "base_uri": "https://localhost:8080/"
        },
        "id": "pMzd8g0x-HjM",
        "outputId": "26d0badc-67a3-414d-a092-f8fde1780a5d"
      },
      "execution_count": null,
      "outputs": [
        {
          "output_type": "execute_result",
          "data": {
            "text/plain": [
              "111"
            ]
          },
          "metadata": {},
          "execution_count": 79
        }
      ]
    },
    {
      "cell_type": "code",
      "source": [
        "myList.pop(0)"
      ],
      "metadata": {
        "colab": {
          "base_uri": "https://localhost:8080/"
        },
        "id": "Qs1_5dkB-LmF",
        "outputId": "ce22299f-6eb2-4512-89c2-707eff9530b5"
      },
      "execution_count": null,
      "outputs": [
        {
          "output_type": "execute_result",
          "data": {
            "text/plain": [
              "99"
            ]
          },
          "metadata": {},
          "execution_count": 80
        }
      ]
    },
    {
      "cell_type": "code",
      "source": [
        "myList"
      ],
      "metadata": {
        "colab": {
          "base_uri": "https://localhost:8080/"
        },
        "id": "YinJsyez-NpG",
        "outputId": "639c8d1d-6c02-43a4-f992-6389911cf42e"
      },
      "execution_count": null,
      "outputs": [
        {
          "output_type": "execute_result",
          "data": {
            "text/plain": [
              "['ABC', 'ABC', 88, 77, 30, 'hey', [50, 60], 'h', 'i', 'h', 'i', 100]"
            ]
          },
          "metadata": {},
          "execution_count": 81
        }
      ]
    },
    {
      "cell_type": "code",
      "source": [
        "myList.pop(0)"
      ],
      "metadata": {
        "colab": {
          "base_uri": "https://localhost:8080/",
          "height": 35
        },
        "id": "nFO0RIi9-Q3f",
        "outputId": "e0077208-670e-4915-aedd-165c8dbfc5c0"
      },
      "execution_count": null,
      "outputs": [
        {
          "output_type": "execute_result",
          "data": {
            "text/plain": [
              "'ABC'"
            ],
            "application/vnd.google.colaboratory.intrinsic+json": {
              "type": "string"
            }
          },
          "metadata": {},
          "execution_count": 82
        }
      ]
    },
    {
      "cell_type": "code",
      "source": [
        "myList"
      ],
      "metadata": {
        "colab": {
          "base_uri": "https://localhost:8080/"
        },
        "id": "4LrGrBAC-TGh",
        "outputId": "71dcd64e-8cea-446d-87f0-0fbedc9613da"
      },
      "execution_count": null,
      "outputs": [
        {
          "output_type": "execute_result",
          "data": {
            "text/plain": [
              "['ABC', 88, 77, 30, 'hey', [50, 60], 'h', 'i', 'h', 'i', 100]"
            ]
          },
          "metadata": {},
          "execution_count": 83
        }
      ]
    },
    {
      "cell_type": "code",
      "source": [
        "myList.pop(5)"
      ],
      "metadata": {
        "colab": {
          "base_uri": "https://localhost:8080/"
        },
        "id": "logtup0C-U2O",
        "outputId": "15daafb8-ad35-41d0-d4b0-cd47e4eb8c16"
      },
      "execution_count": null,
      "outputs": [
        {
          "output_type": "execute_result",
          "data": {
            "text/plain": [
              "[50, 60]"
            ]
          },
          "metadata": {},
          "execution_count": 84
        }
      ]
    },
    {
      "cell_type": "code",
      "source": [
        "myList"
      ],
      "metadata": {
        "colab": {
          "base_uri": "https://localhost:8080/"
        },
        "id": "NWavEfYb-Zex",
        "outputId": "13d21052-d94b-4417-9f64-e2dc408ac7b6"
      },
      "execution_count": null,
      "outputs": [
        {
          "output_type": "execute_result",
          "data": {
            "text/plain": [
              "['ABC', 88, 77, 30, 'hey', 'h', 'i', 'h', 'i', 100]"
            ]
          },
          "metadata": {},
          "execution_count": 85
        }
      ]
    },
    {
      "cell_type": "code",
      "source": [
        "myList.remove(77)"
      ],
      "metadata": {
        "id": "V7rUHY2T-avC"
      },
      "execution_count": null,
      "outputs": []
    },
    {
      "cell_type": "code",
      "source": [
        "myList"
      ],
      "metadata": {
        "colab": {
          "base_uri": "https://localhost:8080/"
        },
        "id": "0UaBnqSK-fmq",
        "outputId": "f46ebf8a-6dbd-4bc5-c176-7dcacab82dbf"
      },
      "execution_count": null,
      "outputs": [
        {
          "output_type": "execute_result",
          "data": {
            "text/plain": [
              "['ABC', 88, 30, 'hey', 'h', 'i', 'h', 'i', 100]"
            ]
          },
          "metadata": {},
          "execution_count": 87
        }
      ]
    },
    {
      "cell_type": "code",
      "source": [
        "myList.remove('h')"
      ],
      "metadata": {
        "id": "y8zneGA7-g5n"
      },
      "execution_count": null,
      "outputs": []
    },
    {
      "cell_type": "code",
      "source": [
        "myList"
      ],
      "metadata": {
        "colab": {
          "base_uri": "https://localhost:8080/"
        },
        "id": "of7uSxoO-lth",
        "outputId": "bbf9997e-a3f0-4124-c181-37f02488b5db"
      },
      "execution_count": null,
      "outputs": [
        {
          "output_type": "execute_result",
          "data": {
            "text/plain": [
              "['ABC', 88, 30, 'hey', 'i', 'h', 'i', 100]"
            ]
          },
          "metadata": {},
          "execution_count": 93
        }
      ]
    },
    {
      "cell_type": "code",
      "source": [
        "myList.remove('i')"
      ],
      "metadata": {
        "id": "BlerXkiD-u_O"
      },
      "execution_count": null,
      "outputs": []
    },
    {
      "cell_type": "code",
      "source": [
        "del myList[-1]\n",
        "\n",
        "print(myList)"
      ],
      "metadata": {
        "colab": {
          "base_uri": "https://localhost:8080/"
        },
        "id": "pmOQh5EF-z-l",
        "outputId": "32e6383f-d3c0-4791-e52d-a675012a3dcb"
      },
      "execution_count": null,
      "outputs": [
        {
          "output_type": "stream",
          "name": "stdout",
          "text": [
            "['ABC', 88, 30, 'hey', 'h', 'i']\n"
          ]
        }
      ]
    },
    {
      "cell_type": "markdown",
      "source": [
        "help(myList)"
      ],
      "metadata": {
        "id": "f1-PYr8Jkv_F"
      }
    },
    {
      "cell_type": "code",
      "source": [
        "for i in range(0,1):\n",
        "    print(myList)"
      ],
      "metadata": {
        "colab": {
          "base_uri": "https://localhost:8080/"
        },
        "id": "IJRG3gBQ-9oD",
        "outputId": "8e792e85-31f2-4958-c996-7674fb66e9f9"
      },
      "execution_count": null,
      "outputs": [
        {
          "output_type": "stream",
          "name": "stdout",
          "text": [
            "['ABC', 88, 30, 'hey', 'h', 'i']\n"
          ]
        }
      ]
    },
    {
      "cell_type": "code",
      "source": [
        "mylist=[10,20,30,\"a\"]\n",
        "newlist=[]\n",
        "for var in mylist:\n",
        "  if((type(var)) is int):\n",
        "    newlist.append(var)\n"
      ],
      "metadata": {
        "id": "qPZXVIWg_jxb"
      },
      "execution_count": null,
      "outputs": []
    },
    {
      "cell_type": "code",
      "source": [
        "newlist"
      ],
      "metadata": {
        "colab": {
          "base_uri": "https://localhost:8080/"
        },
        "id": "W79nP_ldAVqa",
        "outputId": "f4b78e9b-b2f9-400f-e38f-b7cfc508acd3"
      },
      "execution_count": null,
      "outputs": [
        {
          "output_type": "execute_result",
          "data": {
            "text/plain": [
              "[10, 20, 30]"
            ]
          },
          "metadata": {},
          "execution_count": 111
        }
      ]
    },
    {
      "cell_type": "code",
      "source": [
        "Alist=[10,20,30,\"a\",\"b\"]\n",
        "Blist=[]\n",
        "Clist=[]\n",
        "index=0\n",
        "while(index < len(Alist)):\n",
        "    index+=1\n",
        "for var in Alist:\n",
        "  if(type(var) is int):\n",
        "    Blist.append(var)\n",
        "  else:\n",
        "      Clist.append(var)"
      ],
      "metadata": {
        "id": "zHK8feIjBTMF"
      },
      "execution_count": null,
      "outputs": []
    },
    {
      "cell_type": "code",
      "source": [
        "Blist"
      ],
      "metadata": {
        "colab": {
          "base_uri": "https://localhost:8080/"
        },
        "id": "eotH17oWC0qT",
        "outputId": "643d6a97-b32a-4933-c80d-c465c720544f"
      },
      "execution_count": null,
      "outputs": [
        {
          "output_type": "execute_result",
          "data": {
            "text/plain": [
              "[10, 20, 30]"
            ]
          },
          "metadata": {},
          "execution_count": 121
        }
      ]
    },
    {
      "cell_type": "code",
      "source": [
        "Clist"
      ],
      "metadata": {
        "colab": {
          "base_uri": "https://localhost:8080/"
        },
        "id": "a-yvEHZcDRw_",
        "outputId": "b3ea8de0-508b-40d7-94e7-41d332b54931"
      },
      "execution_count": null,
      "outputs": [
        {
          "output_type": "execute_result",
          "data": {
            "text/plain": [
              "['a', 'b']"
            ]
          },
          "metadata": {},
          "execution_count": 122
        }
      ]
    },
    {
      "cell_type": "code",
      "source": [
        "Alist"
      ],
      "metadata": {
        "colab": {
          "base_uri": "https://localhost:8080/"
        },
        "id": "knQdRN-yDTOd",
        "outputId": "4d9407dc-3e96-48bd-91d0-d524b8c934fc"
      },
      "execution_count": null,
      "outputs": [
        {
          "output_type": "execute_result",
          "data": {
            "text/plain": [
              "[10, 20, 30, 'a', 'b']"
            ]
          },
          "metadata": {},
          "execution_count": 123
        }
      ]
    },
    {
      "cell_type": "code",
      "source": [
        "Alist=[10,20,30,\"a\",\"b\"]\n",
        "Blist=[]\n",
        "Clist=[]\n",
        "index=0\n",
        "while(index < len(Alist)):\n",
        "    index+=1\n",
        "for var in Alist:\n",
        "  if(type(var) is int):\n",
        "    Blist.append(var**2)\n",
        "  else:\n",
        "    Clist.append(var)"
      ],
      "metadata": {
        "id": "p8URIUyskJnI"
      },
      "execution_count": null,
      "outputs": []
    },
    {
      "cell_type": "code",
      "source": [
        "Blist"
      ],
      "metadata": {
        "colab": {
          "base_uri": "https://localhost:8080/"
        },
        "id": "ZhdJFBHskgfR",
        "outputId": "91a59bfd-1ee7-4c62-fe1b-8d3c98267bdd"
      },
      "execution_count": null,
      "outputs": [
        {
          "output_type": "execute_result",
          "data": {
            "text/plain": [
              "[100, 400, 900]"
            ]
          },
          "metadata": {},
          "execution_count": 38
        }
      ]
    },
    {
      "cell_type": "code",
      "source": [
        "def is_palindrome(number):\n",
        "    number_str = str(number)\n",
        "    for i in range(len(number_str) // 2):\n",
        "        if number_str[i] != number_str[len(number_str) - i - 1]:\n",
        "            return False\n",
        "    return True\n",
        "num = 12321\n",
        "if is_palindrome(num):\n",
        "    print(f\"{num} is a palindrome.\")\n",
        "else:\n",
        "    print(f\"{num} is not a palindrome.\")"
      ],
      "metadata": {
        "colab": {
          "base_uri": "https://localhost:8080/"
        },
        "id": "5-jpzLUUDh0B",
        "outputId": "5f52d149-931c-478b-9ed5-ef113b771ebc"
      },
      "execution_count": null,
      "outputs": [
        {
          "output_type": "stream",
          "name": "stdout",
          "text": [
            "12321 is a palindrome.\n"
          ]
        }
      ]
    },
    {
      "cell_type": "code",
      "source": [
        "def is_palindrome(input_str):\n",
        "    input_str = input_str.replace(\" \", \"\").lower()\n",
        "    length = len(input_str)\n",
        "    for i in range(length // 2):\n",
        "        if input_str[i] != input_str[length - i - 1]:\n",
        "            return False\n",
        "    return True\n",
        "input_str = input(\"Enter a string: \")\n",
        "if is_palindrome(input_str):\n",
        "    print(f\"{input_str} is a palindrome.\")\n",
        "else:\n",
        "    print(f\"{input_str} is not a palindrome.\")"
      ],
      "metadata": {
        "colab": {
          "base_uri": "https://localhost:8080/"
        },
        "id": "ZGuDoCIBK37G",
        "outputId": "6e31a583-cd5f-4f19-b2f1-0a6a386ea7da"
      },
      "execution_count": null,
      "outputs": [
        {
          "output_type": "stream",
          "name": "stdout",
          "text": [
            "Enter a string: hiih\n",
            "hiih is a palindrome.\n"
          ]
        }
      ]
    },
    {
      "cell_type": "code",
      "source": [
        "def count_vowels(input_str):\n",
        "    vowels = \"aeiouAEIOU\"\n",
        "    count = 0\n",
        "    for char in input_str:\n",
        "        if char in vowels:\n",
        "            count += 1\n",
        "    return count\n",
        "input_str = input(\"Enter a string: \")\n",
        "print(f\"The number of vowels in the input is: {count_vowels(input_str)}\")"
      ],
      "metadata": {
        "colab": {
          "base_uri": "https://localhost:8080/"
        },
        "id": "PGSLrdVbLA8B",
        "outputId": "08af3b01-83cb-4fbb-f9fb-fa16c6f5a177"
      },
      "execution_count": null,
      "outputs": [
        {
          "output_type": "stream",
          "name": "stdout",
          "text": [
            "Enter a string: happy\n",
            "The number of vowels in the input is: 1\n"
          ]
        }
      ]
    },
    {
      "cell_type": "code",
      "source": [
        "def replace_vowels(input_str):\n",
        "    vowels = \"aeiouAEIOU\"\n",
        "    replaced_str = \"\"\n",
        "    for char in input_str:\n",
        "        if char in vowels:\n",
        "            replaced_str += \"#\"\n",
        "        else:\n",
        "            replaced_str += char\n",
        "    return replaced_str\n",
        "input_str = input(\"Enter a string: \")\n",
        "replaced_string = replace_vowels(input_str)\n",
        "print(f\"The replaced string is: {replace_vowels(input_str)}\")"
      ],
      "metadata": {
        "colab": {
          "base_uri": "https://localhost:8080/"
        },
        "id": "FAJrK36OOV4L",
        "outputId": "7459d7cb-98d6-44b6-b359-e34660b749f7"
      },
      "execution_count": null,
      "outputs": [
        {
          "output_type": "stream",
          "name": "stdout",
          "text": [
            "Enter a string: hi how are you\n",
            "The replaced string is: h# h#w #r# y##\n"
          ]
        }
      ]
    },
    {
      "cell_type": "code",
      "source": [
        "def get_unique_words(input_str):\n",
        "    if not isinstance(input_str, str):\n",
        "        return []\n",
        "    words = input_str.split()\n",
        "    unique_words = list(set(words))\n",
        "    return unique_words\n",
        "input_str = input(\"Enter a string: \")\n",
        "unique_words_list = get_unique_words(input_str)\n",
        "print(f\"Unique words in the input: {unique_words_list}\")"
      ],
      "metadata": {
        "colab": {
          "base_uri": "https://localhost:8080/"
        },
        "id": "LEK4_HNCRPcE",
        "outputId": "ca6037b3-a652-4379-8fb4-5d30eae9faca"
      },
      "execution_count": null,
      "outputs": [
        {
          "output_type": "stream",
          "name": "stdout",
          "text": [
            "Enter a string: hi\n",
            "Unique words in the input: ['hi']\n"
          ]
        }
      ]
    },
    {
      "cell_type": "code",
      "source": [
        "def replace_vowels_with_numbers(input_str):\n",
        "    vowels = {'a': '0', 'e': '2', 'i': '3', 'o': '4', 'u': '1'}\n",
        "    replaced_str = \"\"\n",
        "    for char in input_str:\n",
        "        if char.lower() in vowels:\n",
        "            replaced_str += vowels[char.lower()]\n",
        "        else:\n",
        "            replaced_str += char\n",
        "    return replaced_str\n",
        "input_str = input(\"Enter a string: \")\n",
        "replaced_string = replace_vowels_with_numbers(input_str)\n",
        "print(f\"The replaced string is: {replaced_string}\")"
      ],
      "metadata": {
        "colab": {
          "base_uri": "https://localhost:8080/"
        },
        "id": "hYkEkvlsR2hB",
        "outputId": "543add4e-cb8b-485f-9b09-26e7e4c878cf"
      },
      "execution_count": null,
      "outputs": [
        {
          "output_type": "stream",
          "name": "stdout",
          "text": [
            "Enter a string: hello world\n",
            "The replaced string is: h2ll4 w4rld\n"
          ]
        }
      ]
    },
    {
      "cell_type": "code",
      "source": [
        "data=\"hey user hey\"\n",
        "data.split(\" \")\n"
      ],
      "metadata": {
        "colab": {
          "base_uri": "https://localhost:8080/"
        },
        "id": "yYdzHprWdEgd",
        "outputId": "637b9667-ab02-4a92-e0de-04418cbfbd1d"
      },
      "execution_count": null,
      "outputs": [
        {
          "output_type": "execute_result",
          "data": {
            "text/plain": [
              "['hey', 'user', 'hey']"
            ]
          },
          "metadata": {},
          "execution_count": 23
        }
      ]
    },
    {
      "cell_type": "code",
      "source": [
        "myTuple=10,20,\"hi\"\n",
        "\n",
        "type(myTuple)"
      ],
      "metadata": {
        "colab": {
          "base_uri": "https://localhost:8080/"
        },
        "id": "0h15a7az68dQ",
        "outputId": "1db5e404-02cc-4f2b-d248-d9dca56bd161"
      },
      "execution_count": null,
      "outputs": [
        {
          "output_type": "execute_result",
          "data": {
            "text/plain": [
              "tuple"
            ]
          },
          "metadata": {},
          "execution_count": 7
        }
      ]
    },
    {
      "cell_type": "code",
      "source": [
        "myTuple=(10,20,\"hi\")\n",
        "\n",
        "type(myTuple)"
      ],
      "metadata": {
        "colab": {
          "base_uri": "https://localhost:8080/"
        },
        "id": "sOe9WswY8B7V",
        "outputId": "bfa6728a-27b9-4700-cbb9-6e2c48db6c5a"
      },
      "execution_count": null,
      "outputs": [
        {
          "output_type": "execute_result",
          "data": {
            "text/plain": [
              "tuple"
            ]
          },
          "metadata": {},
          "execution_count": 8
        }
      ]
    },
    {
      "cell_type": "code",
      "source": [
        "myTuple[0]"
      ],
      "metadata": {
        "colab": {
          "base_uri": "https://localhost:8080/"
        },
        "id": "tG2CsLX78aFo",
        "outputId": "2e4df127-efc3-431d-b52c-89de3e6d71b8"
      },
      "execution_count": null,
      "outputs": [
        {
          "output_type": "execute_result",
          "data": {
            "text/plain": [
              "10"
            ]
          },
          "metadata": {},
          "execution_count": 10
        }
      ]
    },
    {
      "cell_type": "code",
      "source": [
        "myTuple.index"
      ],
      "metadata": {
        "colab": {
          "base_uri": "https://localhost:8080/"
        },
        "id": "_qPvaq5r9ciC",
        "outputId": "652db76e-d969-41ac-fda4-dc39108b93f1"
      },
      "execution_count": null,
      "outputs": [
        {
          "output_type": "execute_result",
          "data": {
            "text/plain": [
              "<function tuple.index(value, start=0, stop=9223372036854775807, /)>"
            ]
          },
          "metadata": {},
          "execution_count": 12
        }
      ]
    },
    {
      "cell_type": "code",
      "source": [
        "myTuple.count"
      ],
      "metadata": {
        "colab": {
          "base_uri": "https://localhost:8080/"
        },
        "id": "dO1X25Gm9jZI",
        "outputId": "53ed6e2d-2c55-4a4b-e9a1-91e71193aa5f"
      },
      "execution_count": null,
      "outputs": [
        {
          "output_type": "execute_result",
          "data": {
            "text/plain": [
              "<function tuple.count(value, /)>"
            ]
          },
          "metadata": {},
          "execution_count": 13
        }
      ]
    },
    {
      "cell_type": "code",
      "source": [
        "for var in myTuple:\n",
        "    print(var)"
      ],
      "metadata": {
        "colab": {
          "base_uri": "https://localhost:8080/"
        },
        "id": "bxFRs_mM9xfx",
        "outputId": "9635edd6-dbb7-4c43-c647-5748c355a40b"
      },
      "execution_count": null,
      "outputs": [
        {
          "output_type": "stream",
          "name": "stdout",
          "text": [
            "10\n",
            "20\n",
            "hi\n"
          ]
        }
      ]
    },
    {
      "cell_type": "code",
      "source": [
        "myTuple=(10,20,\"hi\")\n",
        "id(myTuple)"
      ],
      "metadata": {
        "colab": {
          "base_uri": "https://localhost:8080/"
        },
        "id": "UhwIlQrv96DN",
        "outputId": "a8dca25e-52bd-476c-e9bc-47c62bd82852"
      },
      "execution_count": null,
      "outputs": [
        {
          "output_type": "execute_result",
          "data": {
            "text/plain": [
              "139751229006400"
            ]
          },
          "metadata": {},
          "execution_count": 17
        }
      ]
    },
    {
      "cell_type": "code",
      "source": [
        "myTuple=myTuple+(100,200)\n",
        "print(myTuple)\n",
        "id(myTuple)"
      ],
      "metadata": {
        "colab": {
          "base_uri": "https://localhost:8080/"
        },
        "id": "lxtA5TZo-OHp",
        "outputId": "6537baf9-bae2-4bc4-d2de-24e253667331"
      },
      "execution_count": null,
      "outputs": [
        {
          "output_type": "stream",
          "name": "stdout",
          "text": [
            "(10, 20, 'hi', 100, 200)\n"
          ]
        },
        {
          "output_type": "execute_result",
          "data": {
            "text/plain": [
              "139750875423392"
            ]
          },
          "metadata": {},
          "execution_count": 16
        }
      ]
    },
    {
      "cell_type": "code",
      "source": [
        "myDictionary={\"id\":1, \"name\":\"jaipal\", \"email\":\"jai@gmail.com\"}\n",
        "myDictionary"
      ],
      "metadata": {
        "colab": {
          "base_uri": "https://localhost:8080/"
        },
        "id": "-wuXslV3Abgd",
        "outputId": "567e9b35-af60-431a-f5c5-1cf322d42f47"
      },
      "execution_count": null,
      "outputs": [
        {
          "output_type": "execute_result",
          "data": {
            "text/plain": [
              "1"
            ]
          },
          "metadata": {},
          "execution_count": 21
        }
      ]
    },
    {
      "cell_type": "code",
      "source": [
        "myDictionary[\"email\"]=\"jaipal@gmail.com\"\n"
      ],
      "metadata": {
        "id": "HTnk5a8qDQ5C"
      },
      "execution_count": null,
      "outputs": []
    },
    {
      "cell_type": "code",
      "source": [
        "myDictionary[\"email\"]\n"
      ],
      "metadata": {
        "colab": {
          "base_uri": "https://localhost:8080/",
          "height": 35
        },
        "id": "TWiirFaZDjKv",
        "outputId": "a20948b7-8cb7-4dae-885b-a842d5b086d2"
      },
      "execution_count": null,
      "outputs": [
        {
          "output_type": "execute_result",
          "data": {
            "text/plain": [
              "'jaipal@gmail.com'"
            ],
            "application/vnd.google.colaboratory.intrinsic+json": {
              "type": "string"
            }
          },
          "metadata": {},
          "execution_count": 26
        }
      ]
    },
    {
      "cell_type": "code",
      "source": [
        "myDictionary"
      ],
      "metadata": {
        "colab": {
          "base_uri": "https://localhost:8080/"
        },
        "id": "jRK33co4DsfL",
        "outputId": "98d13519-3d44-41ee-8d1a-74fd9b2ec0cb"
      },
      "execution_count": null,
      "outputs": [
        {
          "output_type": "execute_result",
          "data": {
            "text/plain": [
              "{'id': 1, 'name': 'jaipal', 'email': 'jaipal@gmail.com'}"
            ]
          },
          "metadata": {},
          "execution_count": 27
        }
      ]
    },
    {
      "cell_type": "code",
      "source": [
        "#insert\n",
        "myDictionary[\"phone\"]=935255\n"
      ],
      "metadata": {
        "id": "-g67ttidDzxp"
      },
      "execution_count": null,
      "outputs": []
    },
    {
      "cell_type": "code",
      "source": [
        "myDictionary"
      ],
      "metadata": {
        "colab": {
          "base_uri": "https://localhost:8080/"
        },
        "id": "JBAbtvxFD7P1",
        "outputId": "8e5bf18d-dd94-48b4-a3fa-0853a61be597"
      },
      "execution_count": null,
      "outputs": [
        {
          "output_type": "execute_result",
          "data": {
            "text/plain": [
              "{'id': 1, 'name': 'jaipal', 'email': 'jaipal@gmail.com', 'phone': 935255}"
            ]
          },
          "metadata": {},
          "execution_count": 31
        }
      ]
    },
    {
      "cell_type": "code",
      "source": [
        "del myDictionary[\"phone\"]"
      ],
      "metadata": {
        "id": "yGqB2RKUD861"
      },
      "execution_count": null,
      "outputs": []
    },
    {
      "cell_type": "code",
      "source": [
        "myDictionary"
      ],
      "metadata": {
        "colab": {
          "base_uri": "https://localhost:8080/"
        },
        "id": "WaeTGf6hEK2w",
        "outputId": "d3203cd8-466d-4387-ae8e-4d5dfac4648f"
      },
      "execution_count": null,
      "outputs": [
        {
          "output_type": "execute_result",
          "data": {
            "text/plain": [
              "{'id': 1, 'name': 'jaipal', 'email': 'jaipal@gmail.com'}"
            ]
          },
          "metadata": {},
          "execution_count": 33
        }
      ]
    },
    {
      "cell_type": "code",
      "source": [
        "#2nd method\n",
        "myDictionary.pop(\"email\")"
      ],
      "metadata": {
        "colab": {
          "base_uri": "https://localhost:8080/",
          "height": 35
        },
        "id": "CKwS3pSQEMBp",
        "outputId": "75d20223-c203-4640-e19d-aac7dd02c3e7"
      },
      "execution_count": null,
      "outputs": [
        {
          "output_type": "execute_result",
          "data": {
            "text/plain": [
              "'jaipal@gmail.com'"
            ],
            "application/vnd.google.colaboratory.intrinsic+json": {
              "type": "string"
            }
          },
          "metadata": {},
          "execution_count": 34
        }
      ]
    },
    {
      "cell_type": "code",
      "source": [
        "myDictionary"
      ],
      "metadata": {
        "colab": {
          "base_uri": "https://localhost:8080/"
        },
        "id": "D1MLfsYsEVX7",
        "outputId": "253b78fc-bcba-435c-c1bb-3336cc81e158"
      },
      "execution_count": null,
      "outputs": [
        {
          "output_type": "execute_result",
          "data": {
            "text/plain": [
              "{'id': 1, 'name': 'jaipal'}"
            ]
          },
          "metadata": {},
          "execution_count": 35
        }
      ]
    },
    {
      "cell_type": "code",
      "source": [
        "myDictionary.popitem()"
      ],
      "metadata": {
        "colab": {
          "base_uri": "https://localhost:8080/"
        },
        "id": "9vUdTtUcEXfF",
        "outputId": "55f05b4b-2716-4d01-e326-b152a2c402a7"
      },
      "execution_count": null,
      "outputs": [
        {
          "output_type": "execute_result",
          "data": {
            "text/plain": [
              "('name', 'jaipal')"
            ]
          },
          "metadata": {},
          "execution_count": 39
        }
      ]
    },
    {
      "cell_type": "code",
      "source": [
        "myDictionary={\"id\":1, \"name\":\"jaipal\", \"email\":\"jai@gmail.com\"}\n",
        "myDictionary"
      ],
      "metadata": {
        "colab": {
          "base_uri": "https://localhost:8080/"
        },
        "id": "P3hdYaGREnFa",
        "outputId": "7e9c927b-5df0-4a35-ca49-f2e5714c0caa"
      },
      "execution_count": null,
      "outputs": [
        {
          "output_type": "execute_result",
          "data": {
            "text/plain": [
              "{'id': 1, 'name': 'jaipal', 'email': 'jai@gmail.com'}"
            ]
          },
          "metadata": {},
          "execution_count": 40
        }
      ]
    },
    {
      "cell_type": "code",
      "source": [
        "for key in myDictionary:\n",
        "  print(key ,myDictionary[key])"
      ],
      "metadata": {
        "colab": {
          "base_uri": "https://localhost:8080/"
        },
        "id": "LR6HzE4gFJWL",
        "outputId": "02ded6b5-14d2-4109-cb90-d0a108748755"
      },
      "execution_count": null,
      "outputs": [
        {
          "output_type": "stream",
          "name": "stdout",
          "text": [
            "id 1\n",
            "name jaipal\n",
            "email jai@gmail.com\n"
          ]
        }
      ]
    },
    {
      "cell_type": "code",
      "source": [
        "for x in myDictionary.values():\n",
        "  print(x)"
      ],
      "metadata": {
        "colab": {
          "base_uri": "https://localhost:8080/"
        },
        "id": "ftKzOSA_FP_m",
        "outputId": "44e50fb3-129c-4d5e-ba39-c7ae8a90eeb4"
      },
      "execution_count": null,
      "outputs": [
        {
          "output_type": "stream",
          "name": "stdout",
          "text": [
            "1\n",
            "jaipal\n",
            "jai@gmail.com\n"
          ]
        }
      ]
    },
    {
      "cell_type": "code",
      "source": [
        "for key,value in myDictionary.items():\n",
        "   print(\"Key is:\",key, \"Value:\",value)"
      ],
      "metadata": {
        "colab": {
          "base_uri": "https://localhost:8080/"
        },
        "id": "JWjQ6frCFngu",
        "outputId": "1ac56f8e-597d-4590-90ea-45d24e555f66"
      },
      "execution_count": null,
      "outputs": [
        {
          "output_type": "stream",
          "name": "stdout",
          "text": [
            "Key is: id Value: 1\n",
            "Key is: name Value: jaipal\n",
            "Key is: email Value: jai@gmail.com\n"
          ]
        }
      ]
    },
    {
      "cell_type": "code",
      "source": [
        "myDictionary.items()"
      ],
      "metadata": {
        "colab": {
          "base_uri": "https://localhost:8080/"
        },
        "id": "AT915TTPIreL",
        "outputId": "a4cf1955-6f1b-43bf-9c74-32d8be3a1e45"
      },
      "execution_count": null,
      "outputs": [
        {
          "output_type": "execute_result",
          "data": {
            "text/plain": [
              "dict_items([('id', 1), ('name', 'jaipal'), ('email', 'jai@gmail.com')])"
            ]
          },
          "metadata": {},
          "execution_count": 60
        }
      ]
    },
    {
      "cell_type": "code",
      "source": [
        "mytuple=(1,\"hi\",10)\n",
        "a,b,c=mytuple\n",
        "print(a,b,c)\n",
        "#unpacking the tuple"
      ],
      "metadata": {
        "colab": {
          "base_uri": "https://localhost:8080/"
        },
        "id": "4YjjvWCoF9F4",
        "outputId": "36175254-bd36-40ed-cfe4-29dfac19074c"
      },
      "execution_count": null,
      "outputs": [
        {
          "output_type": "stream",
          "name": "stdout",
          "text": [
            "1 hi 10\n"
          ]
        }
      ]
    },
    {
      "cell_type": "code",
      "source": [
        "myList=[(20,\"age\"),(10,\"hey\")]\n",
        "\n",
        "myList"
      ],
      "metadata": {
        "colab": {
          "base_uri": "https://localhost:8080/"
        },
        "id": "5kqtnTRHGi7k",
        "outputId": "f2ce7863-45a0-45cf-d2b0-a0cafaff1d99"
      },
      "execution_count": null,
      "outputs": [
        {
          "output_type": "execute_result",
          "data": {
            "text/plain": [
              "[(20, 'age'), (10, 'hey')]"
            ]
          },
          "metadata": {},
          "execution_count": 56
        }
      ]
    },
    {
      "cell_type": "code",
      "source": [
        "type(myList[0])"
      ],
      "metadata": {
        "colab": {
          "base_uri": "https://localhost:8080/"
        },
        "id": "nLSyaJAZHGJ_",
        "outputId": "60d0a000-ec60-4cd7-f51b-765f729d0a9c"
      },
      "execution_count": null,
      "outputs": [
        {
          "output_type": "execute_result",
          "data": {
            "text/plain": [
              "tuple"
            ]
          },
          "metadata": {},
          "execution_count": 57
        }
      ]
    },
    {
      "cell_type": "code",
      "source": [
        "dict(myList)"
      ],
      "metadata": {
        "colab": {
          "base_uri": "https://localhost:8080/"
        },
        "id": "fhGcUBD9Hc20",
        "outputId": "59845d27-f596-4726-d8a0-60fd118d356e"
      },
      "execution_count": null,
      "outputs": [
        {
          "output_type": "execute_result",
          "data": {
            "text/plain": [
              "{20: 'age', 10: 'hey'}"
            ]
          },
          "metadata": {},
          "execution_count": 58
        }
      ]
    },
    {
      "cell_type": "code",
      "source": [
        "for data in myDictionary.items():\n",
        "   print(data)\n",
        "   key,value=data\n",
        "   print(key ,\"value:\" ,value)"
      ],
      "metadata": {
        "colab": {
          "base_uri": "https://localhost:8080/"
        },
        "id": "k23Z1slrH-2t",
        "outputId": "598ea3de-1123-4918-af77-9fde1fd96517"
      },
      "execution_count": null,
      "outputs": [
        {
          "output_type": "stream",
          "name": "stdout",
          "text": [
            "('id', 1)\n",
            "id value: 1\n",
            "('name', 'jaipal')\n",
            "name value: jaipal\n",
            "('email', 'jai@gmail.com')\n",
            "email value: jai@gmail.com\n"
          ]
        }
      ]
    },
    {
      "cell_type": "code",
      "source": [
        "rows = 4\n",
        "for i in range(1, rows + 1):\n",
        "    print(\" \" * (rows - i) + \"* \" * i)"
      ],
      "metadata": {
        "colab": {
          "base_uri": "https://localhost:8080/"
        },
        "id": "QbJJu0_OsclN",
        "outputId": "23353e04-b10c-4d2f-b105-32e59bb93807"
      },
      "execution_count": null,
      "outputs": [
        {
          "output_type": "stream",
          "name": "stdout",
          "text": [
            "   * \n",
            "  * * \n",
            " * * * \n",
            "* * * * \n"
          ]
        }
      ]
    },
    {
      "cell_type": "code",
      "source": [
        "rows = 4\n",
        "for i in range(1, rows + 1):\n",
        "    print(\"  \" * (rows - i) + \"* \" * i)"
      ],
      "metadata": {
        "colab": {
          "base_uri": "https://localhost:8080/"
        },
        "id": "7w4FaAGm2YGX",
        "outputId": "dd1d2235-a890-45ce-8083-c6de13738d20"
      },
      "execution_count": null,
      "outputs": [
        {
          "output_type": "stream",
          "name": "stdout",
          "text": [
            "      * \n",
            "    * * \n",
            "  * * * \n",
            "* * * * \n"
          ]
        }
      ]
    },
    {
      "cell_type": "markdown",
      "source": [
        "OR"
      ],
      "metadata": {
        "id": "W2XMgIx4Zbat"
      }
    },
    {
      "cell_type": "code",
      "source": [
        "for\n",
        "    white space ke liye\n",
        "for\n",
        "    star ke liye\n",
        "\n",
        "sol:\n",
        "rows = 4\n",
        "\n",
        "for i in range(1, rows + 1):\n",
        "    for j in range(rows - i):\n",
        "        print(\"  \", end=\"\")\n",
        "    for k in range(i):\n",
        "        print(\"*\", end=\" \")\n",
        "    print()"
      ],
      "metadata": {
        "id": "uhITgMBXZNGJ",
        "colab": {
          "base_uri": "https://localhost:8080/"
        },
        "outputId": "1a8c8d5f-d6aa-4a64-b048-35b5a96a7b78"
      },
      "execution_count": 29,
      "outputs": [
        {
          "output_type": "stream",
          "name": "stdout",
          "text": [
            "      * \n",
            "    * * \n",
            "  * * * \n",
            "* * * * \n"
          ]
        }
      ]
    },
    {
      "cell_type": "code",
      "source": [
        "name=\"saras saras\"\n",
        "name[::-1]\n",
        "\n",
        "if(name==name[::-1]):\n",
        "    print(\"Its palindrome\")\n",
        "else:\n",
        "    print(\"not\")"
      ],
      "metadata": {
        "colab": {
          "base_uri": "https://localhost:8080/"
        },
        "id": "lmdShD4uG1YZ",
        "outputId": "2b9fffe6-85bc-452a-90ea-e98428a142af"
      },
      "execution_count": 16,
      "outputs": [
        {
          "output_type": "stream",
          "name": "stdout",
          "text": [
            "Its palindrome\n"
          ]
        }
      ]
    },
    {
      "cell_type": "code",
      "source": [
        "def is_palindrome(input_str):\n",
        "    input_str = input_str.replace(\" \", \"\").lower()\n",
        "    length = len(input_str)\n",
        "    for i in range(length // 2):\n",
        "        if input_str[i] != input_str[length - i - 1]:\n",
        "            return False\n",
        "    return True\n",
        "input_str = input(\"Enter a string: \")\n",
        "if is_palindrome(input_str):\n",
        "    print(f\"{input_str} is a palindrome.\")\n",
        "else:\n",
        "    print(f\"{input_str} is not a palindrome.\")"
      ],
      "metadata": {
        "colab": {
          "base_uri": "https://localhost:8080/"
        },
        "id": "XoWkzFs1HaRR",
        "outputId": "36217cd9-c1a7-4635-e0ed-55b22f73d62a"
      },
      "execution_count": 38,
      "outputs": [
        {
          "output_type": "stream",
          "name": "stdout",
          "text": [
            "Enter a string: Bird rib\n",
            "Bird rib is a palindrome.\n"
          ]
        }
      ]
    },
    {
      "cell_type": "markdown",
      "source": [
        "OR"
      ],
      "metadata": {
        "id": "lmdZ1GcfVsNc"
      }
    },
    {
      "cell_type": "code",
      "source": [
        "input_str = input(\"Enter a string: \")\n",
        "input_str = input_str.replace(\" \", \"\").lower()\n",
        "is_palindrome = True\n",
        "for i in range(len(input_str) // 2):\n",
        "    if input_str[i] != input_str[len(input_str) - i - 1]:\n",
        "        is_palindrome = False\n",
        "        break\n",
        "if is_palindrome:\n",
        "    print(\"Input is a palindrome.\")\n",
        "else:\n",
        "    print(\"Input is not a palindrome.\")"
      ],
      "metadata": {
        "colab": {
          "base_uri": "https://localhost:8080/"
        },
        "id": "zH6jA6xeUIYZ",
        "outputId": "c8440f61-dca3-422a-c3d2-3e5dd124716d"
      },
      "execution_count": 51,
      "outputs": [
        {
          "output_type": "stream",
          "name": "stdout",
          "text": [
            "Enter a string: Bird rib\n",
            "Input is a palindrome.\n"
          ]
        }
      ]
    },
    {
      "cell_type": "code",
      "source": [
        "input_str = input(\"Enter a string: \")\n",
        "vowels = {'a': '0', 'e': '2', 'i': '3', 'o': '4', 'u': '1'}\n",
        "replaced_str = \"\"\n",
        "for char in input_str:\n",
        "        if char.lower() in vowels:\n",
        "            replaced_str += vowels[char.lower()]\n",
        "        else:\n",
        "            replaced_str += char\n",
        "print(f\"The replaced string is: {replaced_str}\")"
      ],
      "metadata": {
        "colab": {
          "base_uri": "https://localhost:8080/"
        },
        "id": "KNLcDjFftAjT",
        "outputId": "897c93eb-24b1-427d-9df2-d9cfaeb8dde1"
      },
      "execution_count": 28,
      "outputs": [
        {
          "output_type": "stream",
          "name": "stdout",
          "text": [
            "Enter a string: hi my name is jaipal\n",
            "The replaced string is: h3 my n0m2 3s j03p0l\n"
          ]
        }
      ]
    },
    {
      "cell_type": "code",
      "source": [
        "input_str = input(\"Enter a string: \")\n",
        "vowels = \"aeiouAEIOU\"\n",
        "count = 0\n",
        "for char in input_str:\n",
        "        if char in vowels:\n",
        "            count += 1\n",
        "print(\"The number of vowels in the input is:\", count)"
      ],
      "metadata": {
        "colab": {
          "base_uri": "https://localhost:8080/"
        },
        "id": "KXV7ENA9Lh1w",
        "outputId": "f7dfe9bd-7b9a-4aad-95c4-88ce0853d9cf"
      },
      "execution_count": 23,
      "outputs": [
        {
          "output_type": "stream",
          "name": "stdout",
          "text": [
            "Enter a string: happy biscuit\n",
            "The number of vowels in the input is: 4\n"
          ]
        }
      ]
    },
    {
      "cell_type": "code",
      "source": [
        "input_str = input(\"Enter a string: \")\n",
        "vowels = \"aeiouAEIOU\"\n",
        "replaced_str = \"\"\n",
        "for char in input_str:\n",
        "        if char in vowels:\n",
        "            replaced_str += \"#\"\n",
        "        else:\n",
        "            replaced_str += char\n",
        "print(f\"The replaced string is: {replaced_str}\")"
      ],
      "metadata": {
        "colab": {
          "base_uri": "https://localhost:8080/"
        },
        "id": "LWy08LoJudR1",
        "outputId": "a413d057-dcb6-461a-c475-f559bf1f39b8"
      },
      "execution_count": null,
      "outputs": [
        {
          "output_type": "stream",
          "name": "stdout",
          "text": [
            "Enter a string: hiii\n",
            "The replaced string is: h###\n"
          ]
        }
      ]
    },
    {
      "cell_type": "code",
      "source": [
        "def get_unique_words(input_str):\n",
        "    if not isinstance(input_str, str):\n",
        "        return []\n",
        "    words = input_str.split()\n",
        "    unique_words = list(set(words))\n",
        "    return unique_words\n",
        "input_str = input(\"Enter a string: \")\n",
        "unique_words_list = get_unique_words(input_str)\n",
        "print(f\"Unique words in the input: {unique_words_list}\")"
      ],
      "metadata": {
        "colab": {
          "base_uri": "https://localhost:8080/"
        },
        "id": "Wz0i_xXsXOpQ",
        "outputId": "e3e06fe9-7c81-4d8d-b6e1-99ca335706d3"
      },
      "execution_count": 52,
      "outputs": [
        {
          "output_type": "stream",
          "name": "stdout",
          "text": [
            "Enter a string: 10 02 01\n",
            "Unique words in the input: ['02', '01', '10']\n"
          ]
        }
      ]
    },
    {
      "cell_type": "markdown",
      "source": [
        "OR"
      ],
      "metadata": {
        "id": "KZMTb-71DJLp"
      }
    },
    {
      "cell_type": "code",
      "source": [
        "input_str = input(\"Enter a string: \")\n",
        "words = input_str.split()\n",
        "unique_words = list(set(words))\n",
        "print(f\"Unique words in the input: {unique_words}\")"
      ],
      "metadata": {
        "colab": {
          "base_uri": "https://localhost:8080/"
        },
        "id": "D3Xo1FmO1QnD",
        "outputId": "4e34d7be-0b56-463c-d984-36083ba63986"
      },
      "execution_count": 26,
      "outputs": [
        {
          "output_type": "stream",
          "name": "stdout",
          "text": [
            "Enter a string: 11 11 22 11\n",
            "Unique words in the input: ['22', '11']\n"
          ]
        }
      ]
    },
    {
      "cell_type": "markdown",
      "source": [
        "OR"
      ],
      "metadata": {
        "id": "NEgVx3LpYFus"
      }
    },
    {
      "cell_type": "code",
      "source": [
        "data=input(\"Enter a string: \")\n",
        "userlist=data.split()\n",
        "print(userlist)\n",
        "list(set(userlist))"
      ],
      "metadata": {
        "colab": {
          "base_uri": "https://localhost:8080/"
        },
        "id": "UjTGgt72XQ44",
        "outputId": "b10f089b-2bc7-419d-c5c8-da53c3ebe4b1"
      },
      "execution_count": 27,
      "outputs": [
        {
          "output_type": "stream",
          "name": "stdout",
          "text": [
            "Enter a string: 11 10 11\n",
            "['11', '10', '11']\n"
          ]
        },
        {
          "output_type": "execute_result",
          "data": {
            "text/plain": [
              "['10', '11']"
            ]
          },
          "metadata": {},
          "execution_count": 27
        }
      ]
    },
    {
      "cell_type": "code",
      "source": [
        "def count_characters(input_string):\n",
        "    char_count = {}\n",
        "    for char in input_string:\n",
        "        if char in char_count:\n",
        "            char_count[char] += 1\n",
        "        else:\n",
        "            char_count[char] = 1\n",
        "    return char_count\n",
        "\n",
        "user_input = input(\"Enter a string: \")\n",
        "result = count_characters(user_input)\n",
        "print(result)"
      ],
      "metadata": {
        "id": "Y9wAI2W43RSy",
        "colab": {
          "base_uri": "https://localhost:8080/"
        },
        "outputId": "df91c078-d8e3-46ba-91a9-1614f5023c40"
      },
      "execution_count": null,
      "outputs": [
        {
          "output_type": "stream",
          "name": "stdout",
          "text": [
            "Enter a string: hi my name\n",
            "{'h': 1, 'i': 1, ' ': 2, 'm': 2, 'y': 1, 'n': 1, 'a': 1, 'e': 1}\n"
          ]
        }
      ]
    },
    {
      "cell_type": "code",
      "source": [
        "def count_words(input_string):\n",
        "    word_count = {}\n",
        "    words = input_string.split()\n",
        "    for word in words:\n",
        "        if word in word_count:\n",
        "            word_count[word] += 1\n",
        "        else:\n",
        "            word_count[word] = 1\n",
        "    return word_count\n",
        "\n",
        "user_input = input(\"Enter a string: \")\n",
        "result = count_words(user_input)\n",
        "print(result)"
      ],
      "metadata": {
        "colab": {
          "base_uri": "https://localhost:8080/"
        },
        "id": "kXl7NDDedGIl",
        "outputId": "2620cffd-b420-498f-f5e6-471d66fe85cf"
      },
      "execution_count": null,
      "outputs": [
        {
          "output_type": "stream",
          "name": "stdout",
          "text": [
            "Enter a string: hi my name is jai and your name\n",
            "{'hi': 1, 'my': 1, 'name': 2, 'is': 1, 'jai': 1, 'and': 1, 'your': 1}\n"
          ]
        }
      ]
    },
    {
      "cell_type": "code",
      "source": [],
      "metadata": {
        "colab": {
          "base_uri": "https://localhost:8080/"
        },
        "id": "X7-hwixEKN2H",
        "outputId": "f0a7ed44-5ba4-4c32-e5b3-fc090f25ced4"
      },
      "execution_count": null,
      "outputs": [
        {
          "output_type": "stream",
          "name": "stdout",
          "text": [
            "Enter a string: hi my name is jai\n",
            "{'hi': 1, 'my': 1, 'name': 1, 'is': 1, 'jai': 1}\n"
          ]
        }
      ]
    },
    {
      "cell_type": "code",
      "source": [
        "def count_characters(input_string):\n",
        "    char_count = {'A-P': 0, 'c-z': 0, '0-9': 0, '@,#,!': 0}\n",
        "\n",
        "    for char in input_string:\n",
        "        ascii_val = ord(char)\n",
        "\n",
        "        if 65 <= ascii_val <= 80:\n",
        "            char_count['A-P'] += 1\n",
        "        elif 99 <= ascii_val <= 122:\n",
        "            char_count['c-z'] += 1\n",
        "        elif 48 <= ascii_val <= 57:\n",
        "            char_count['0-9'] += 1\n",
        "        elif char in ['@', '#', '!']:\n",
        "            char_count['@,#,!'] += 1\n",
        "\n",
        "    return char_count\n",
        "\n",
        "user_input = input(\"Enter a string: \")\n",
        "result = count_characters(user_input)\n",
        "print(result)\n"
      ],
      "metadata": {
        "colab": {
          "base_uri": "https://localhost:8080/"
        },
        "id": "-AP0uFBGdubo",
        "outputId": "29a96a9f-4094-4f9c-faaa-8e84e325cb65"
      },
      "execution_count": null,
      "outputs": [
        {
          "output_type": "stream",
          "name": "stdout",
          "text": [
            "Enter a string: Hi, my name is JAI11!\n",
            "{'A-P': 4, 'c-z': 8, '0-9': 2, '@,#,!': 1}\n"
          ]
        }
      ]
    },
    {
      "cell_type": "code",
      "source": [
        "def check_conditions(input_string):\n",
        "    has_range1 = False  # A-P\n",
        "    has_range2 = False  # c-z\n",
        "    has_range3 = False  # 0-9\n",
        "    has_special_char = False  # @,#,!\n",
        "\n",
        "    for char in input_string:\n",
        "        ascii_val = ord(char)\n",
        "\n",
        "        if not has_range1 and (65 <= ascii_val <= 80):\n",
        "            has_range1 = True\n",
        "        elif not has_range2 and (99 <= ascii_val <= 122):\n",
        "            has_range2 = True\n",
        "        elif not has_range3 and (48 <= ascii_val <= 57):\n",
        "            has_range3 = True\n",
        "        elif not has_special_char and (char in ['@', '#', '!']):\n",
        "            has_special_char = True\n",
        "\n",
        "        # Break early if all conditions are satisfied\n",
        "        if has_range1 and has_range2 and has_range3 and has_special_char:\n",
        "            break\n",
        "\n",
        "    return has_range1 and has_range2 and has_range3 and has_special_char\n",
        "\n",
        "user_input = input(\"Enter a string: \")\n",
        "conditions_satisfied = check_conditions(user_input)\n",
        "print(\"Conditions Satisfied:\", conditions_satisfied)"
      ],
      "metadata": {
        "colab": {
          "base_uri": "https://localhost:8080/"
        },
        "id": "LCMz0hG9fEd_",
        "outputId": "fdc106f3-ddb2-4a15-bbe0-97f6dce89243"
      },
      "execution_count": null,
      "outputs": [
        {
          "output_type": "stream",
          "name": "stdout",
          "text": [
            "Enter a string: Hi, my name is jai11!\n",
            "Conditions Satisfied: True\n"
          ]
        }
      ]
    },
    {
      "cell_type": "code",
      "source": [
        "ord('a')"
      ],
      "metadata": {
        "colab": {
          "base_uri": "https://localhost:8080/"
        },
        "id": "3VrKKxOagjDC",
        "outputId": "71b830fe-1dda-442c-b3f2-ff2153391258"
      },
      "execution_count": null,
      "outputs": [
        {
          "output_type": "execute_result",
          "data": {
            "text/plain": [
              "97"
            ]
          },
          "metadata": {},
          "execution_count": 16
        }
      ]
    },
    {
      "cell_type": "code",
      "source": [
        "chr(97)"
      ],
      "metadata": {
        "colab": {
          "base_uri": "https://localhost:8080/",
          "height": 35
        },
        "id": "fxEWf_8xhjwu",
        "outputId": "549e1dad-7222-4c5f-a75a-ef3a3e2dfb96"
      },
      "execution_count": null,
      "outputs": [
        {
          "output_type": "execute_result",
          "data": {
            "text/plain": [
              "'a'"
            ],
            "application/vnd.google.colaboratory.intrinsic+json": {
              "type": "string"
            }
          },
          "metadata": {},
          "execution_count": 14
        }
      ]
    },
    {
      "cell_type": "code",
      "source": [
        "chr(ord('a')+3)"
      ],
      "metadata": {
        "colab": {
          "base_uri": "https://localhost:8080/",
          "height": 35
        },
        "id": "7GRWjFOrimuZ",
        "outputId": "e75b0bbb-6540-46f4-a8ff-689b9c45b135"
      },
      "execution_count": null,
      "outputs": [
        {
          "output_type": "execute_result",
          "data": {
            "text/plain": [
              "'d'"
            ],
            "application/vnd.google.colaboratory.intrinsic+json": {
              "type": "string"
            }
          },
          "metadata": {},
          "execution_count": 17
        }
      ]
    },
    {
      "cell_type": "code",
      "source": [
        "user_input = input(\"Enter a string: \")\n",
        "has_range1 = False  # A-P\n",
        "has_range2 = False  # c-z\n",
        "has_range3 = False  # 0-9\n",
        "has_special_char = False  # @,#,!\n",
        "char_count = {'A-P': 0, 'c-z': 0, '0-9': 0, '@,#,!': 0}\n",
        "for char in user_input:\n",
        "        ascii_val = ord(char)\n",
        "\n",
        "        if 65 <= ascii_val <= 80:\n",
        "            char_count['A-P'] += 1\n",
        "        elif 99 <= ascii_val <= 122:\n",
        "            char_count['c-z'] += 1\n",
        "        elif 48 <= ascii_val <= 57:\n",
        "            char_count['0-9'] += 1\n",
        "        elif char in ['@', '#', '!']:\n",
        "            char_count['@,#,!'] += 1\n",
        "for char in user_input :\n",
        "        ascii_val = ord(char)\n",
        "\n",
        "        if not has_range1 and (65 <= ascii_val <= 80):\n",
        "            has_range1 = True\n",
        "        elif not has_range2 and (99 <= ascii_val <= 122):\n",
        "            has_range2 = True\n",
        "        elif not has_range3 and (48 <= ascii_val <= 57):\n",
        "            has_range3 = True\n",
        "        elif not has_special_char and (char in ['@', '#', '!']):\n",
        "            has_special_char = True\n",
        "\n",
        "        if has_range1 and has_range2 and has_range3 and has_special_char:\n",
        "            print(\"Conditions Satisfied:\", char_count)"
      ],
      "metadata": {
        "colab": {
          "base_uri": "https://localhost:8080/"
        },
        "id": "RGz0l330jOl2",
        "outputId": "24583773-1394-4b55-8119-4820bbfec161"
      },
      "execution_count": null,
      "outputs": [
        {
          "output_type": "stream",
          "name": "stdout",
          "text": [
            "Enter a string: hi my name is Jai11!\n",
            "Conditions Satisfied: {'A-P': 1, 'c-z': 10, '0-9': 2, '@,#,!': 1}\n"
          ]
        }
      ]
    },
    {
      "cell_type": "code",
      "source": [],
      "metadata": {
        "id": "X9HhYqRN6FlE"
      },
      "execution_count": null,
      "outputs": []
    },
    {
      "cell_type": "code",
      "source": [
        "if(ord(\"C\")>65):\n",
        "    print(\"yes\")"
      ],
      "metadata": {
        "colab": {
          "base_uri": "https://localhost:8080/"
        },
        "id": "DU7OpxKCYVJU",
        "outputId": "edb2ae03-5ddb-409a-f518-5ebf07996f38"
      },
      "execution_count": null,
      "outputs": [
        {
          "output_type": "stream",
          "name": "stdout",
          "text": [
            "yes\n"
          ]
        }
      ]
    },
    {
      "cell_type": "code",
      "source": [
        "myset={12,20,30,10,20,\"hey\",10}\n",
        "myset.update(\"hi\")\n",
        "print(myset)"
      ],
      "metadata": {
        "colab": {
          "base_uri": "https://localhost:8080/"
        },
        "id": "zp8UQOWMNzZ8",
        "outputId": "0d35b04f-c4f8-44e5-e327-b7ac38e3b527"
      },
      "execution_count": null,
      "outputs": [
        {
          "output_type": "stream",
          "name": "stdout",
          "text": [
            "{'i', 'h', 20, 'hey', 10, 12, 30}\n"
          ]
        }
      ]
    },
    {
      "cell_type": "code",
      "source": [
        "myset={12,20,30,10,20,\"hey\",10}\n",
        "myset.pop()\n",
        "print(myset)"
      ],
      "metadata": {
        "colab": {
          "base_uri": "https://localhost:8080/"
        },
        "id": "jj38z4WPU06k",
        "outputId": "2ba55817-975d-4b38-9e9a-e5c3a607dd22"
      },
      "execution_count": null,
      "outputs": [
        {
          "output_type": "stream",
          "name": "stdout",
          "text": [
            "{'hey', 10, 12, 30}\n"
          ]
        }
      ]
    },
    {
      "cell_type": "code",
      "source": [
        "myset={12,20,30,10,20,\"hey\",10}\n",
        "myset.remove(30)\n",
        "print(myset)"
      ],
      "metadata": {
        "colab": {
          "base_uri": "https://localhost:8080/"
        },
        "id": "Ta4EtRMBV5vW",
        "outputId": "9099946f-111f-45d4-98bd-bef2fa0721ed"
      },
      "execution_count": null,
      "outputs": [
        {
          "output_type": "stream",
          "name": "stdout",
          "text": [
            "{20, 'hey', 10, 12}\n"
          ]
        }
      ]
    },
    {
      "cell_type": "code",
      "source": [
        "myset={12,20,30,10,20,\"hey\",10}\n",
        "myset.discard(30)\n",
        "print(myset)"
      ],
      "metadata": {
        "colab": {
          "base_uri": "https://localhost:8080/"
        },
        "id": "DTfBoFdvVQxE",
        "outputId": "1af04e6e-3f93-4621-8e9b-c180e201cee6"
      },
      "execution_count": null,
      "outputs": [
        {
          "output_type": "stream",
          "name": "stdout",
          "text": [
            "{20, 'hey', 10, 12}\n"
          ]
        }
      ]
    },
    {
      "cell_type": "code",
      "source": [
        "myset={12,20,30,10,20,\"hey\",10}\n",
        "myset.discard(3000)\n",
        "print(myset)"
      ],
      "metadata": {
        "colab": {
          "base_uri": "https://localhost:8080/"
        },
        "id": "tSwoeO2IVxY2",
        "outputId": "2706a1b6-bca5-4006-c553-78eb857822d9"
      },
      "execution_count": null,
      "outputs": [
        {
          "output_type": "stream",
          "name": "stdout",
          "text": [
            "{20, 'hey', 10, 12, 30}\n"
          ]
        }
      ]
    },
    {
      "cell_type": "code",
      "source": [
        "#function declaration\n",
        "def greeting():\n",
        "    print(\"hello user\")"
      ],
      "metadata": {
        "id": "Cv4PmLfeV30S"
      },
      "execution_count": null,
      "outputs": []
    },
    {
      "cell_type": "code",
      "source": [
        "#function call\n",
        "\n",
        "greeting()"
      ],
      "metadata": {
        "colab": {
          "base_uri": "https://localhost:8080/"
        },
        "id": "vWIcmDxDePHD",
        "outputId": "695547a6-bf7d-4c48-bb66-0e7ff8ed13ec"
      },
      "execution_count": null,
      "outputs": [
        {
          "output_type": "stream",
          "name": "stdout",
          "text": [
            "hello user 10\n"
          ]
        }
      ]
    },
    {
      "cell_type": "code",
      "source": [
        "#variable inside a function => parameter (x)\n",
        "def greeting(x):\n",
        "    print(\"hello user\", x)\n",
        "\n",
        "greeting(x)\n",
        "#function call => value is argument (10) //agar call kiya ton\n",
        "greeting(10)\n",
        "#formal argument / informal parameter"
      ],
      "metadata": {
        "id": "JVVmh2JQeUko"
      },
      "execution_count": null,
      "outputs": []
    },
    {
      "cell_type": "code",
      "source": [
        "def greeting(username, lastname):\n",
        "    print(f\"hey user welcome {username} {lastname}\")\n",
        "\n",
        "greeting(\"JAIPAL\", \"SINGH\")"
      ],
      "metadata": {
        "colab": {
          "base_uri": "https://localhost:8080/"
        },
        "id": "0LM39lJ-em9E",
        "outputId": "62d96710-2c5c-459b-9bd4-15deb0494e57"
      },
      "execution_count": null,
      "outputs": [
        {
          "output_type": "stream",
          "name": "stdout",
          "text": [
            "hey user welcome JAIPAL SINGH\n"
          ]
        }
      ]
    },
    {
      "cell_type": "code",
      "source": [
        "#local variable => life(only inside function) => life scope of a variable\n",
        "def addNumber(num):\n",
        "    num=num+5\n",
        "    print(num)\n",
        "addNumber(10)"
      ],
      "metadata": {
        "colab": {
          "base_uri": "https://localhost:8080/"
        },
        "id": "psXEJgufgAIJ",
        "outputId": "210f33cd-b521-4728-cdce-7e782cf768b4"
      },
      "execution_count": null,
      "outputs": [
        {
          "output_type": "stream",
          "name": "stdout",
          "text": [
            "15\n"
          ]
        }
      ]
    },
    {
      "cell_type": "code",
      "source": [
        "def print_pattern(n):\n",
        "    for i in range(1, n+1):\n",
        "        print('*' * i)\n",
        "    for i in range(n-1, 0, -1):\n",
        "        print('*' * i)\n",
        "print_pattern(4)"
      ],
      "metadata": {
        "id": "AKDSamc6gpBA",
        "colab": {
          "base_uri": "https://localhost:8080/"
        },
        "outputId": "b29d7ebd-3ebb-42cd-ce70-e0e98c4eb03e"
      },
      "execution_count": null,
      "outputs": [
        {
          "output_type": "stream",
          "name": "stdout",
          "text": [
            "*\n",
            "**\n",
            "***\n",
            "****\n",
            "***\n",
            "**\n",
            "*\n"
          ]
        }
      ]
    },
    {
      "cell_type": "code",
      "source": [
        "def print_empty_square(n):\n",
        "    for i in range(n):\n",
        "        if i == 0 or i == n - 1:\n",
        "            print('* ' * n)\n",
        "        else:\n",
        "            print('*' + ' ' * (2 * (n - 2)) + ' *')\n",
        "print_empty_square(4)"
      ],
      "metadata": {
        "colab": {
          "base_uri": "https://localhost:8080/"
        },
        "id": "k4Hfeo7m6stm",
        "outputId": "b152ff18-febb-4e99-8a08-1c95071ccd88"
      },
      "execution_count": null,
      "outputs": [
        {
          "output_type": "stream",
          "name": "stdout",
          "text": [
            "* * * * \n",
            "*     *\n",
            "*     *\n",
            "* * * * \n"
          ]
        }
      ]
    },
    {
      "cell_type": "code",
      "source": [
        "def print_pattern(n):\n",
        "    for i in range(1, n+1):\n",
        "        print(i)\n",
        "        print('*' * i)\n",
        "print_pattern(5)"
      ],
      "metadata": {
        "colab": {
          "base_uri": "https://localhost:8080/"
        },
        "id": "G6rREkiD8wAo",
        "outputId": "2191dff9-1ba8-4f00-cbd5-3202e954e0c5"
      },
      "execution_count": null,
      "outputs": [
        {
          "output_type": "stream",
          "name": "stdout",
          "text": [
            "1\n",
            "*\n",
            "2\n",
            "**\n",
            "3\n",
            "***\n",
            "4\n",
            "****\n",
            "5\n",
            "*****\n"
          ]
        }
      ]
    },
    {
      "cell_type": "code",
      "source": [
        "def print_pattern(n):\n",
        "    for i in range(1, n+1):\n",
        "        print(i)\n",
        "    for i in range(n-1, 0, -1):\n",
        "        print(i)\n",
        "print_pattern(4)"
      ],
      "metadata": {
        "colab": {
          "base_uri": "https://localhost:8080/"
        },
        "id": "6RazMEgV_TIn",
        "outputId": "60a5c24b-a828-4131-ce1f-3ef49cd95eb5"
      },
      "execution_count": null,
      "outputs": [
        {
          "output_type": "stream",
          "name": "stdout",
          "text": [
            "1\n",
            "2\n",
            "3\n",
            "4\n",
            "3\n",
            "2\n",
            "1\n"
          ]
        }
      ]
    },
    {
      "cell_type": "code",
      "source": [
        "def print_pattern(n):\n",
        "    for i in range(2, n+1):\n",
        "        print(str(i) + '*' * (i * i))\n",
        "print_pattern(5)"
      ],
      "metadata": {
        "colab": {
          "base_uri": "https://localhost:8080/"
        },
        "id": "6sjKALlZ_x8X",
        "outputId": "717cc247-170f-452a-bc8c-011fb44b2660"
      },
      "execution_count": null,
      "outputs": [
        {
          "output_type": "stream",
          "name": "stdout",
          "text": [
            "2****\n",
            "3*********\n",
            "4****************\n",
            "5*************************\n"
          ]
        }
      ]
    },
    {
      "cell_type": "code",
      "source": [
        "def print_pattern(start, end):\n",
        "    for i in range(start, end+1):\n",
        "        print(f\"{i}{'*'*(i**2)}\")\n",
        "print_pattern(2, 5)"
      ],
      "metadata": {
        "colab": {
          "base_uri": "https://localhost:8080/"
        },
        "id": "vNPy-aHbAIwp",
        "outputId": "5d89fe6e-0d4d-4231-cbab-88a86f02cd34"
      },
      "execution_count": null,
      "outputs": [
        {
          "output_type": "stream",
          "name": "stdout",
          "text": [
            "2****\n",
            "3*********\n",
            "4****************\n",
            "5*************************\n"
          ]
        }
      ]
    },
    {
      "cell_type": "code",
      "source": [
        "def append_value(arr, value):\n",
        "    arr.append(value)\n",
        "    print(\"Inside the function: \", arr)\n",
        "\n",
        "my_list = [1, 2, 3]\n",
        "append_value(my_list, 4)\n",
        "print(\"Outside the function: \", my_list)\n",
        "#Python uses a variation of call by object reference, which behaves like call by value for immutable types and call by reference for mutable types"
      ],
      "metadata": {
        "colab": {
          "base_uri": "https://localhost:8080/"
        },
        "id": "pwESxMfQAZ1v",
        "outputId": "30b4cbd7-64cc-46d1-f7b7-490b27be59ac"
      },
      "execution_count": null,
      "outputs": [
        {
          "output_type": "stream",
          "name": "stdout",
          "text": [
            "Inside the function:  [1, 2, 3, 4]\n",
            "Outside the function:  [1, 2, 3, 4]\n"
          ]
        }
      ]
    },
    {
      "cell_type": "code",
      "source": [
        "def calculate_sum_of_digits(num):\n",
        "    while len(num) > 1:\n",
        "        total = sum(int(digit) for digit in num)\n",
        "        num = str(total)\n",
        "    return int(num)\n",
        "\n",
        "# Take input from the user\n",
        "input_string = input(\"Enter a number: \")\n",
        "\n",
        "# Call the function to calculate the sum of digits\n",
        "result = calculate_sum_of_digits(input_string)\n",
        "\n",
        "# Print the final result\n",
        "print(\"Final result:\", result)\n"
      ],
      "metadata": {
        "colab": {
          "base_uri": "https://localhost:8080/"
        },
        "id": "OtHpJhFnCxfc",
        "outputId": "de07f3e6-193a-4e5b-99a1-361a35acaa07"
      },
      "execution_count": null,
      "outputs": [
        {
          "output_type": "stream",
          "name": "stdout",
          "text": [
            "Enter a number: 157\n",
            "Final result: 4\n"
          ]
        }
      ]
    },
    {
      "cell_type": "code",
      "source": [
        "'''\n",
        "Q. x=10,y=10\n",
        "x is y -> true\n",
        "x==y -> true\n",
        "in dono me difference kya hai\n",
        "'''\n",
        "#x is y checks if x and y refer to the same object in memory, while x == y checks if x and y have the same value"
      ],
      "metadata": {
        "id": "XXafq0F1J_XJ"
      },
      "execution_count": null,
      "outputs": []
    },
    {
      "cell_type": "code",
      "source": [
        "set1 = {1, 2, 3, 4, 5}\n",
        "set2 = {4, 5, 6, 7, 8}"
      ],
      "metadata": {
        "id": "BWYqEJXqSY6N"
      },
      "execution_count": null,
      "outputs": []
    },
    {
      "cell_type": "code",
      "source": [
        "diff = set1 - set2\n",
        "print(diff)"
      ],
      "metadata": {
        "colab": {
          "base_uri": "https://localhost:8080/"
        },
        "id": "FkeTJW4CSdtl",
        "outputId": "2c947d56-f669-4469-e17e-6b80775d8b84"
      },
      "execution_count": null,
      "outputs": [
        {
          "output_type": "stream",
          "name": "stdout",
          "text": [
            "{1, 2, 3}\n"
          ]
        }
      ]
    },
    {
      "cell_type": "code",
      "source": [
        "disjoint = set1.isdisjoint(set2)\n",
        "print(disjoint)"
      ],
      "metadata": {
        "colab": {
          "base_uri": "https://localhost:8080/"
        },
        "id": "k0MTbmf7SefZ",
        "outputId": "66ef1774-d088-4430-f4e0-aadb388b6464"
      },
      "execution_count": null,
      "outputs": [
        {
          "output_type": "stream",
          "name": "stdout",
          "text": [
            "False\n"
          ]
        }
      ]
    },
    {
      "cell_type": "code",
      "source": [
        "issubset = set1.issubset(set2)\n",
        "print(issubset)"
      ],
      "metadata": {
        "colab": {
          "base_uri": "https://localhost:8080/"
        },
        "id": "GeHp4vgnSsED",
        "outputId": "a1174944-8439-4eaf-913c-50efc5887cd5"
      },
      "execution_count": null,
      "outputs": [
        {
          "output_type": "stream",
          "name": "stdout",
          "text": [
            "False\n"
          ]
        }
      ]
    },
    {
      "cell_type": "code",
      "source": [
        "issuperset =set1.issuperset(set2)\n",
        "print(issuperset)"
      ],
      "metadata": {
        "colab": {
          "base_uri": "https://localhost:8080/"
        },
        "id": "q-ERCF7oS1L5",
        "outputId": "57e6650a-056f-4a5b-b291-c21d596c5309"
      },
      "execution_count": null,
      "outputs": [
        {
          "output_type": "stream",
          "name": "stdout",
          "text": [
            "False\n"
          ]
        }
      ]
    },
    {
      "cell_type": "code",
      "source": [
        "set1.symmetric_difference_update(set2)\n",
        "print(set1)"
      ],
      "metadata": {
        "colab": {
          "base_uri": "https://localhost:8080/"
        },
        "id": "Ba8VJmkqTDNY",
        "outputId": "b7f33745-c0e7-4c4e-ec12-407a726d4d71"
      },
      "execution_count": null,
      "outputs": [
        {
          "output_type": "stream",
          "name": "stdout",
          "text": [
            "{1, 2, 3, 6, 7, 8}\n"
          ]
        }
      ]
    },
    {
      "cell_type": "code",
      "source": [
        "set1.symmetric_difference(set2)\n",
        "print(set1)"
      ],
      "metadata": {
        "colab": {
          "base_uri": "https://localhost:8080/"
        },
        "id": "Pw_Gyw3RTIc6",
        "outputId": "a977fb4c-7391-4d9a-d4f7-a8d2d48f3baa"
      },
      "execution_count": null,
      "outputs": [
        {
          "output_type": "stream",
          "name": "stdout",
          "text": [
            "{1, 2, 3, 6, 7, 8}\n"
          ]
        }
      ]
    },
    {
      "cell_type": "code",
      "source": [
        "def squareNo(x):\n",
        "    print(\"hey\",x)"
      ],
      "metadata": {
        "id": "NVHmAzKzYtWp"
      },
      "execution_count": null,
      "outputs": []
    },
    {
      "cell_type": "code",
      "source": [
        "#variable"
      ],
      "metadata": {
        "id": "lNRcM7fPcvYr"
      },
      "execution_count": null,
      "outputs": []
    },
    {
      "cell_type": "code",
      "source": [
        "x=10\n",
        "print(id(x))\n",
        "\n",
        "y=x\n",
        "print(id(y))"
      ],
      "metadata": {
        "colab": {
          "base_uri": "https://localhost:8080/"
        },
        "id": "Y0Nk91qDY0sj",
        "outputId": "f9f5355c-4b70-4d29-ba85-1a3da1c884b4"
      },
      "execution_count": 47,
      "outputs": [
        {
          "output_type": "stream",
          "name": "stdout",
          "text": [
            "140084354384400\n",
            "140084354384400\n"
          ]
        }
      ]
    },
    {
      "cell_type": "code",
      "source": [
        "def squareNo(num):\n",
        "  #num =x\n",
        "    print(num)\n",
        "\n",
        "x=9\n",
        "squareNo(x)"
      ],
      "metadata": {
        "colab": {
          "base_uri": "https://localhost:8080/"
        },
        "id": "a6_itnMzbveR",
        "outputId": "983c176f-07f0-44df-eacf-4e847e2fa2d5"
      },
      "execution_count": 43,
      "outputs": [
        {
          "output_type": "stream",
          "name": "stdout",
          "text": [
            "9\n"
          ]
        }
      ]
    },
    {
      "cell_type": "code",
      "source": [
        "a=10\n",
        "\n",
        "b=a\n",
        "\n",
        "print(b)"
      ],
      "metadata": {
        "colab": {
          "base_uri": "https://localhost:8080/"
        },
        "id": "WClAtJ78b12a",
        "outputId": "a7f338a1-cece-4a64-a412-4119900ca99a"
      },
      "execution_count": 44,
      "outputs": [
        {
          "output_type": "stream",
          "name": "stdout",
          "text": [
            "10\n"
          ]
        }
      ]
    },
    {
      "cell_type": "code",
      "source": [
        "def squareNo(num):\n",
        "    print(num*2)\n",
        "\n",
        "x=9\n",
        "squareNo(x)"
      ],
      "metadata": {
        "colab": {
          "base_uri": "https://localhost:8080/"
        },
        "id": "GW5ykdYDcBDS",
        "outputId": "b6dcad8d-c85e-4465-beaa-3446d948bd27"
      },
      "execution_count": 45,
      "outputs": [
        {
          "output_type": "stream",
          "name": "stdout",
          "text": [
            "18\n"
          ]
        }
      ]
    },
    {
      "cell_type": "code",
      "source": [
        "def squareNo(num):\n",
        "    print(num**2)\n",
        "\n",
        "x=9\n",
        "squareNo(x)"
      ],
      "metadata": {
        "colab": {
          "base_uri": "https://localhost:8080/"
        },
        "id": "X6KE5vjJcMv1",
        "outputId": "7621e096-3cb2-4536-910d-788755078380"
      },
      "execution_count": 46,
      "outputs": [
        {
          "output_type": "stream",
          "name": "stdout",
          "text": [
            "81\n"
          ]
        }
      ]
    },
    {
      "cell_type": "code",
      "source": [
        "def squareNo(num):\n",
        "    x= num**2\n",
        "\n",
        "x=9\n",
        "squareNo(x)"
      ],
      "metadata": {
        "id": "j1E7CGz_cSSB"
      },
      "execution_count": 48,
      "outputs": []
    },
    {
      "cell_type": "code",
      "source": [
        "print(x)"
      ],
      "metadata": {
        "colab": {
          "base_uri": "https://localhost:8080/"
        },
        "id": "FcZsHZN6dLXI",
        "outputId": "01a78911-ddce-45e9-ad24-97e0bbc78172"
      },
      "execution_count": 49,
      "outputs": [
        {
          "output_type": "stream",
          "name": "stdout",
          "text": [
            "9\n"
          ]
        }
      ]
    },
    {
      "cell_type": "code",
      "source": [
        "def squareNo(num):\n",
        "    output=num**2\n",
        "    print(output)\n",
        "    return \"hey\"\n",
        "    #retun None\n",
        "\n",
        "#function call\n",
        "functionOutput = squareNo(9)"
      ],
      "metadata": {
        "colab": {
          "base_uri": "https://localhost:8080/"
        },
        "id": "7IaPFurBdOhy",
        "outputId": "b8f439e0-c4e1-4364-cc38-11df5a5d41af"
      },
      "execution_count": 55,
      "outputs": [
        {
          "output_type": "stream",
          "name": "stdout",
          "text": [
            "81\n"
          ]
        }
      ]
    },
    {
      "cell_type": "code",
      "source": [
        "print(functionOutput)"
      ],
      "metadata": {
        "colab": {
          "base_uri": "https://localhost:8080/"
        },
        "id": "p1fvFkHkdf5o",
        "outputId": "1ced5617-8a30-47c6-8af7-fb4da80f7868"
      },
      "execution_count": 56,
      "outputs": [
        {
          "output_type": "stream",
          "name": "stdout",
          "text": [
            "hey\n"
          ]
        }
      ]
    },
    {
      "cell_type": "code",
      "source": [
        "def hello():\n",
        "  print(\"jaipal this side\")\n",
        "  return 10\n",
        "#x=hello\n",
        "print(hello())"
      ],
      "metadata": {
        "colab": {
          "base_uri": "https://localhost:8080/"
        },
        "id": "dTEo12dpd6Lo",
        "outputId": "c1699afa-1457-4b33-9c8f-eafa743ca28c"
      },
      "execution_count": 58,
      "outputs": [
        {
          "output_type": "stream",
          "name": "stdout",
          "text": [
            "jaipal this side\n",
            "10\n"
          ]
        }
      ]
    },
    {
      "cell_type": "code",
      "source": [
        "def hello(num):\n",
        "  print(\"jaipal this side\")\n",
        "  return num+5\n",
        "#x=hello\n",
        "print(hello(100))"
      ],
      "metadata": {
        "colab": {
          "base_uri": "https://localhost:8080/"
        },
        "id": "igjys0TtetnO",
        "outputId": "ed9324e1-6963-40f5-fa03-4b30c1839e7c"
      },
      "execution_count": 63,
      "outputs": [
        {
          "output_type": "stream",
          "name": "stdout",
          "text": [
            "jaipal this side\n",
            "105\n"
          ]
        }
      ]
    },
    {
      "cell_type": "code",
      "source": [
        "a=10\n",
        "b=20\n",
        "temp=0\n",
        "\n",
        "temp=a\n",
        "a=b\n",
        "b=temp\n",
        "\n",
        "print(a,b)"
      ],
      "metadata": {
        "colab": {
          "base_uri": "https://localhost:8080/"
        },
        "id": "4vGFXDpvfu0b",
        "outputId": "ade0128c-37fa-4bba-9e43-3dcb5eb08bf8"
      },
      "execution_count": 67,
      "outputs": [
        {
          "output_type": "stream",
          "name": "stdout",
          "text": [
            "20 10\n"
          ]
        }
      ]
    },
    {
      "cell_type": "code",
      "source": [
        "a=10\n",
        "b=20\n",
        "\n",
        "a,b=b,b\n",
        "print(a)"
      ],
      "metadata": {
        "colab": {
          "base_uri": "https://localhost:8080/"
        },
        "id": "MEk1tbslf354",
        "outputId": "05d6ff56-446b-417c-a68a-fd0954f3d88a"
      },
      "execution_count": 68,
      "outputs": [
        {
          "output_type": "stream",
          "name": "stdout",
          "text": [
            "20\n"
          ]
        }
      ]
    },
    {
      "cell_type": "code",
      "source": [
        "def swapNumber(num1, num2):\n",
        "  #swap number\n",
        "  num1,num2=num2,num2\n",
        "  return num1,num2\n",
        "\n",
        "num1=10\n",
        "num2=20\n",
        "\n",
        "print(\"Before swap:\",num1,num2)\n",
        "print(swapNumber(10,20))\n",
        "print(\"after swap:\",num1,num2)\n"
      ],
      "metadata": {
        "colab": {
          "base_uri": "https://localhost:8080/"
        },
        "id": "BDZcp1H2f54f",
        "outputId": "c4977dad-4c2f-420a-b2a4-88637dd958dc"
      },
      "execution_count": 98,
      "outputs": [
        {
          "output_type": "stream",
          "name": "stdout",
          "text": [
            "Before swap: 10 20\n",
            "(20, 20)\n",
            "after swap: 10 20\n"
          ]
        }
      ]
    },
    {
      "cell_type": "code",
      "source": [
        "def Listadd(myList):\n",
        "  print(myList, id(myList))\n",
        "#saara data call by reference hota h in python\n",
        "list1=[10,20,30]\n",
        "print(\"list1:\",list1, id(list1))\n",
        "\n",
        "Listadd(list1)"
      ],
      "metadata": {
        "colab": {
          "base_uri": "https://localhost:8080/"
        },
        "id": "HfRKGpiXgte3",
        "outputId": "f7e6992d-95a9-486e-fa2e-51091ee2748b"
      },
      "execution_count": 82,
      "outputs": [
        {
          "output_type": "stream",
          "name": "stdout",
          "text": [
            "list1: [10, 20, 30] 140083096130560\n",
            "[10, 20, 30] 140083096130560\n"
          ]
        }
      ]
    },
    {
      "cell_type": "code",
      "source": [
        "def Listadd(myList):\n",
        "  print(myList)\n",
        "#mutable hai toh function ke saath saath uske andar bhi change hoga\n",
        "list1=[10,20,30]\n",
        "Listadd(list1)"
      ],
      "metadata": {
        "colab": {
          "base_uri": "https://localhost:8080/"
        },
        "id": "CcDjcbTGjWxE",
        "outputId": "159f892c-b25c-4cbe-b0bc-cfeb6006b520"
      },
      "execution_count": 83,
      "outputs": [
        {
          "output_type": "stream",
          "name": "stdout",
          "text": [
            "[10, 20, 30]\n"
          ]
        }
      ]
    },
    {
      "cell_type": "code",
      "source": [
        "def Listadd(myList):\n",
        "  myList.append(\"hey\")\n",
        "  print(myList)\n",
        "\n",
        "list1=[10,20,30]\n",
        "Listadd(list1)"
      ],
      "metadata": {
        "colab": {
          "base_uri": "https://localhost:8080/"
        },
        "id": "9yMvtfa_j1Pf",
        "outputId": "647b0b21-c2b4-4156-89c2-40981b9a9eb5"
      },
      "execution_count": 84,
      "outputs": [
        {
          "output_type": "stream",
          "name": "stdout",
          "text": [
            "[10, 20, 30, 'hey']\n"
          ]
        }
      ]
    },
    {
      "cell_type": "code",
      "source": [
        "print(list1)"
      ],
      "metadata": {
        "colab": {
          "base_uri": "https://localhost:8080/"
        },
        "id": "V6LvLfP-j-ev",
        "outputId": "ce0654da-23da-4d85-9838-18e1e2c9bb29"
      },
      "execution_count": 86,
      "outputs": [
        {
          "output_type": "stream",
          "name": "stdout",
          "text": [
            "[10, 20, 30, 'hey']\n"
          ]
        }
      ]
    },
    {
      "cell_type": "code",
      "source": [
        "def ListCheck(mylist):\n",
        "    if isinstance(mylist, str):\n",
        "        words = mylist.split()\n",
        "        if len(words) > 1:\n",
        "            result = ' '.join(words[:-1])\n",
        "        else:\n",
        "            result = \"\"\n",
        "    elif isinstance(mylist, int):\n",
        "         result = mylist * 5\n",
        "    elif isinstance(mylist, list):\n",
        "          result = [sublist[1:] for sublist in mylist if len(sublist) > 1]\n",
        "    else:\n",
        "          result = None\n",
        "\n",
        "    return result"
      ],
      "metadata": {
        "id": "2pHsgt8VlFyg"
      },
      "execution_count": 16,
      "outputs": []
    },
    {
      "cell_type": "code",
      "source": [
        "input_str = \"Hello, how are you doing today?\"\n",
        "output_str = ListCheck(input_str)\n",
        "print(output_str)\n",
        "\n",
        "input_int = 10\n",
        "output_int = ListCheck(input_int)\n",
        "print(output_int)\n",
        "\n",
        "input_list = [[1, 2, 3], [4, 5], [6, 7, 8, 9]]\n",
        "output_list = ListCheck(input_list)\n",
        "print(output_list)"
      ],
      "metadata": {
        "colab": {
          "base_uri": "https://localhost:8080/"
        },
        "id": "W_vFWqJJAUIu",
        "outputId": "19e5cffa-3e82-45bf-d498-ef644972b195"
      },
      "execution_count": 22,
      "outputs": [
        {
          "output_type": "stream",
          "name": "stdout",
          "text": [
            "Hello, how are you doing\n",
            "50\n",
            "[[2, 3], [5], [7, 8, 9]]\n"
          ]
        }
      ]
    },
    {
      "cell_type": "code",
      "source": [],
      "metadata": {
        "id": "nELY9r-_xXHo"
      },
      "execution_count": null,
      "outputs": []
    },
    {
      "cell_type": "code",
      "source": [
        "def find_lcm(a, b):\n",
        "    max_num = max(a, b)\n",
        "    lcm = max_num\n",
        "    while True:\n",
        "        if lcm % a == 0 and lcm % b == 0:\n",
        "            break\n",
        "        lcm += max_num\n",
        "\n",
        "    return lcm\n",
        "\n",
        "num1 = int(input(\"Enter the first number: \"))\n",
        "num2 = int(input(\"Enter the second number: \"))\n",
        "lcm = find_lcm(num1, num2)\n",
        "print(\"The LCM of\", num1, \"and\", num2, \"is\", lcm)"
      ],
      "metadata": {
        "colab": {
          "base_uri": "https://localhost:8080/"
        },
        "id": "b_uysrQYm-JS",
        "outputId": "09963e56-a1f1-433a-fe2a-17af361aaf83"
      },
      "execution_count": 13,
      "outputs": [
        {
          "output_type": "stream",
          "name": "stdout",
          "text": [
            "Enter the first number: 2\n",
            "Enter the second number: 4\n",
            "The LCM of 2 and 4 is 4\n"
          ]
        }
      ]
    },
    {
      "cell_type": "code",
      "source": [
        "def calculate_lcm(a, b):\n",
        "    max_num = max(a, b)\n",
        "    for i in range(max_num, a*b + 1, max_num):\n",
        "        if i % a == 0 and i % b == 0:\n",
        "            lcm = i\n",
        "            break\n",
        "\n",
        "    return lcm\n",
        "\n",
        "num1 = int(input(\"Enter the first number: \"))\n",
        "num2 = int(input(\"Enter the second number: \"))\n",
        "lcm = calculate_lcm(num1, num2)\n",
        "print(\"The LCM of\", num1, \"and\", num2, \"is\", lcm)"
      ],
      "metadata": {
        "colab": {
          "base_uri": "https://localhost:8080/"
        },
        "id": "z7caSW1J9t_o",
        "outputId": "cff1e8ff-4a6a-4ee1-f75f-8aeac9ffa0a0"
      },
      "execution_count": 14,
      "outputs": [
        {
          "output_type": "stream",
          "name": "stdout",
          "text": [
            "Enter the first number: 30\n",
            "Enter the second number: 40\n",
            "The LCM of 30 and 40 is 120\n"
          ]
        }
      ]
    },
    {
      "cell_type": "code",
      "source": [
        "def find_hcf(a, b):\n",
        "    min_num = min(a, b)\n",
        "    hcf = 1\n",
        "    for i in range(1, min_num + 1):\n",
        "        if a % i == 0 and b % i == 0:\n",
        "            hcf = i\n",
        "\n",
        "    return hcf\n",
        "\n",
        "num1 = int(input(\"Enter the first number: \"))\n",
        "num2 = int(input(\"Enter the second number: \"))\n",
        "hcf = find_hcf(num1, num2)\n",
        "print(\"The HCF of\", num1, \"and\", num2, \"is\", hcf)\n"
      ],
      "metadata": {
        "colab": {
          "base_uri": "https://localhost:8080/"
        },
        "id": "b8zIYBE_6wXc",
        "outputId": "800cfe00-cc4a-40b1-9eb2-ac48c2b11db1"
      },
      "execution_count": 11,
      "outputs": [
        {
          "output_type": "stream",
          "name": "stdout",
          "text": [
            "Enter the first number: 11\n",
            "Enter the second number: 22\n",
            "The HCF of 11 and 22 is 11\n"
          ]
        }
      ]
    },
    {
      "cell_type": "code",
      "source": [
        "#how we pass the argument to the function\n",
        "def company(id, name, email):\n",
        "    print(f\"hey data is id: {id}, name: {name}, email: {email}\")\n",
        "#required argument (positional argument)\n",
        "company(10,\"jaipal\",\"jaipal@gmail.com\")"
      ],
      "metadata": {
        "colab": {
          "base_uri": "https://localhost:8080/"
        },
        "id": "V4xRxGEDi-Z6",
        "outputId": "08bc15f4-27bd-404e-b19d-140d46b07415"
      },
      "execution_count": 2,
      "outputs": [
        {
          "output_type": "stream",
          "name": "stdout",
          "text": [
            "hey data is id: 10, name: jaipal, email: jaipal@gmail.com\n"
          ]
        }
      ]
    },
    {
      "cell_type": "code",
      "source": [
        "def company(id, name, email):\n",
        "    print(f\"hey data is id: {id}, name: {name}, email: {email}\")\n",
        "#keyword argument\n",
        "company(name=\"jaipal\", id=10,email=\"jaipal@gmail.com\")"
      ],
      "metadata": {
        "colab": {
          "base_uri": "https://localhost:8080/"
        },
        "id": "XFzjoDO_j1wk",
        "outputId": "b8b1148d-dbfa-46ab-cc8a-902f6f6809d9"
      },
      "execution_count": 5,
      "outputs": [
        {
          "output_type": "stream",
          "name": "stdout",
          "text": [
            "hey data is id: 10, name: jaipal, email: jaipal@gmail.com\n"
          ]
        }
      ]
    },
    {
      "cell_type": "code",
      "source": [
        "def company(id, name, email):\n",
        "    print(f\"hey data is id: {id}, name: {name}, email: {email}\")\n",
        "\n",
        "company(10, name=\"jaipal\",email=\"jaipal@gmail.com\")"
      ],
      "metadata": {
        "colab": {
          "base_uri": "https://localhost:8080/"
        },
        "id": "4eHstRFlkcJx",
        "outputId": "0d2658b9-79b1-48b4-ddc6-92f8934ab89d"
      },
      "execution_count": 6,
      "outputs": [
        {
          "output_type": "stream",
          "name": "stdout",
          "text": [
            "hey data is id: 10, name: jaipal, email: jaipal@gmail.com\n"
          ]
        }
      ]
    },
    {
      "cell_type": "code",
      "source": [
        "#default argument => value(declare)\n",
        "#method 2\n",
        "def company(id, email=\"regex@gmail.com\",name=\"regex\"):\n",
        "    print(f\"hey data is id: {id}, name: {name}, email: {email}\")\n",
        "\n",
        "company(10,\"jaipal\",\"jaipal@gmail.com\")"
      ],
      "metadata": {
        "colab": {
          "base_uri": "https://localhost:8080/"
        },
        "id": "qlHHhRUom4Hy",
        "outputId": "ec33e08d-888e-4bd7-d063-a455fb712195"
      },
      "execution_count": 12,
      "outputs": [
        {
          "output_type": "stream",
          "name": "stdout",
          "text": [
            "hey data is id: 10, name: jaipal@gmail.com, email: jaipal\n"
          ]
        }
      ]
    },
    {
      "cell_type": "code",
      "source": [
        "# variable length argument\n",
        "# hamare according input varible ho toh\n",
        "# facebook => name, user email, phone, college, university"
      ],
      "metadata": {
        "id": "hWWwDkBanQpR"
      },
      "execution_count": null,
      "outputs": []
    },
    {
      "cell_type": "code",
      "source": [
        "def info(num, num2):\n",
        "    print(num, num2)\n",
        "\n",
        "info(10, 20)"
      ],
      "metadata": {
        "colab": {
          "base_uri": "https://localhost:8080/"
        },
        "id": "LDSVDELypRi5",
        "outputId": "ffc1b0cf-e140-439d-98a6-c26bfb6aa434"
      },
      "execution_count": 14,
      "outputs": [
        {
          "output_type": "stream",
          "name": "stdout",
          "text": [
            "10 20\n"
          ]
        }
      ]
    },
    {
      "cell_type": "code",
      "source": [
        "def info(*var):\n",
        "    print(var,type(var))\n",
        "#variable jo apne according jo bhi do accept karle\n",
        "info(10101,10,\"hi\",101)"
      ],
      "metadata": {
        "colab": {
          "base_uri": "https://localhost:8080/"
        },
        "id": "RrDvTj5tpY88",
        "outputId": "49ee7500-d230-4221-f10e-6fe7ba115e01"
      },
      "execution_count": 18,
      "outputs": [
        {
          "output_type": "stream",
          "name": "stdout",
          "text": [
            "(10101, 10, 'hi', 101) <class 'tuple'>\n"
          ]
        }
      ]
    },
    {
      "cell_type": "code",
      "source": [
        "def info(*var):\n",
        "    print(var,type(var))\n",
        "#age, salary, bio, email\n",
        "info(1001,88,\"hi\")"
      ],
      "metadata": {
        "colab": {
          "base_uri": "https://localhost:8080/"
        },
        "id": "8sCaS9t2qB_h",
        "outputId": "680cd7b8-276d-49b4-b736-f374fd1a439f"
      },
      "execution_count": 21,
      "outputs": [
        {
          "output_type": "stream",
          "name": "stdout",
          "text": [
            "(1001, 88, 'hi') <class 'tuple'>\n"
          ]
        }
      ]
    },
    {
      "cell_type": "code",
      "source": [
        "#keyword => variable length argument\n",
        "def info(**kwargs):\n",
        "    print(kwargs)\n",
        "#it will make dictionary\n",
        "info(age=88,salary=1001,bio=\"hi\")"
      ],
      "metadata": {
        "colab": {
          "base_uri": "https://localhost:8080/"
        },
        "id": "qJylBpX1qqax",
        "outputId": "365ee719-63b1-4475-c4c8-36037afba5cb"
      },
      "execution_count": 26,
      "outputs": [
        {
          "output_type": "stream",
          "name": "stdout",
          "text": [
            "{'age': 88, 'salary': 1001, 'bio': 'hi'}\n"
          ]
        }
      ]
    },
    {
      "cell_type": "code",
      "source": [
        "# args phale then kwargs\n",
        "def info(*args, **kwargs):\n",
        "    print(args)\n",
        "    print(kwargs)\n",
        "#isme bhi keywords right hand side me honi chahiye\n",
        "info(10,\"hey\",x=88,y=1001)"
      ],
      "metadata": {
        "colab": {
          "base_uri": "https://localhost:8080/"
        },
        "id": "8UEigbfsrTAh",
        "outputId": "f54a4733-451d-4d6b-a469-659a5b97036f"
      },
      "execution_count": 32,
      "outputs": [
        {
          "output_type": "stream",
          "name": "stdout",
          "text": [
            "(10, 'hey')\n",
            "{'x': 88, 'y': 1001}\n"
          ]
        }
      ]
    },
    {
      "cell_type": "code",
      "source": [
        "# args phale then kwargs\n",
        "def info(x, *args):\n",
        "    print(\"Args\", args)\n",
        "    print(\"x:\", x)\n",
        "info(\"hey\",88,1001)"
      ],
      "metadata": {
        "colab": {
          "base_uri": "https://localhost:8080/"
        },
        "id": "63tZeQZdsu5T",
        "outputId": "cc1aa989-58c6-48b9-b752-3a547f33032a"
      },
      "execution_count": 34,
      "outputs": [
        {
          "output_type": "stream",
          "name": "stdout",
          "text": [
            "Args (88, 1001)\n",
            "x: hey\n"
          ]
        }
      ]
    },
    {
      "cell_type": "code",
      "source": [
        "def greeting():\n",
        "    print(\" value is 100\")\n",
        "\n",
        "greeting()\n",
        "#or x()"
      ],
      "metadata": {
        "colab": {
          "base_uri": "https://localhost:8080/"
        },
        "id": "QvTtsOyKt736",
        "outputId": "34e7c279-2996-47c4-a2e1-8563282baea1"
      },
      "execution_count": 35,
      "outputs": [
        {
          "output_type": "stream",
          "name": "stdout",
          "text": [
            " value is 100\n"
          ]
        }
      ]
    },
    {
      "cell_type": "code",
      "source": [
        "print(greeting)"
      ],
      "metadata": {
        "colab": {
          "base_uri": "https://localhost:8080/"
        },
        "id": "3ZzuGF6wuUqC",
        "outputId": "d51f9b85-fddc-4da3-fd2e-5a4e0a4d174c"
      },
      "execution_count": 38,
      "outputs": [
        {
          "output_type": "stream",
          "name": "stdout",
          "text": [
            "<function greeting at 0x7f17afc7dd80>\n"
          ]
        }
      ]
    },
    {
      "cell_type": "code",
      "source": [
        "x=greeting\n",
        "print(greeting)"
      ],
      "metadata": {
        "colab": {
          "base_uri": "https://localhost:8080/"
        },
        "id": "sAtth_0WuW1V",
        "outputId": "03510666-25ff-4869-e97d-0359ed08465b"
      },
      "execution_count": 39,
      "outputs": [
        {
          "output_type": "stream",
          "name": "stdout",
          "text": [
            "<function greeting at 0x7f17afc7dd80>\n"
          ]
        }
      ]
    },
    {
      "cell_type": "code",
      "source": [
        "print(x)"
      ],
      "metadata": {
        "colab": {
          "base_uri": "https://localhost:8080/"
        },
        "id": "5qDqUHX7ujSg",
        "outputId": "38a118ac-7ba8-42ee-e322-e2ccab47f047"
      },
      "execution_count": 40,
      "outputs": [
        {
          "output_type": "stream",
          "name": "stdout",
          "text": [
            "<function greeting at 0x7f17afc7dd80>\n"
          ]
        }
      ]
    },
    {
      "cell_type": "code",
      "source": [
        "x()"
      ],
      "metadata": {
        "colab": {
          "base_uri": "https://localhost:8080/"
        },
        "id": "KKnmi_TrulvZ",
        "outputId": "83fc12d6-4d32-4367-d043-e8c92f0401fa"
      },
      "execution_count": 41,
      "outputs": [
        {
          "output_type": "stream",
          "name": "stdout",
          "text": [
            " value is 100\n"
          ]
        }
      ]
    },
    {
      "cell_type": "code",
      "source": [
        "def addNo(num):\n",
        "    num=num+5\n",
        "    return num\n",
        "x=addNo(10)\n",
        "print(x)"
      ],
      "metadata": {
        "colab": {
          "base_uri": "https://localhost:8080/"
        },
        "id": "KZOKGk5Ru00a",
        "outputId": "45b3ef27-0bd8-4c92-c3d2-4e6f937b3276"
      },
      "execution_count": 43,
      "outputs": [
        {
          "output_type": "stream",
          "name": "stdout",
          "text": [
            "15\n"
          ]
        }
      ]
    },
    {
      "cell_type": "code",
      "source": [
        "def addNo(num):\n",
        "    num=num+5\n",
        "    return num\n",
        "num=addNo(10)\n",
        "print(num)"
      ],
      "metadata": {
        "colab": {
          "base_uri": "https://localhost:8080/"
        },
        "id": "glZxZxLRwVZj",
        "outputId": "b051b311-9458-4916-bb76-a282bf89e52e"
      },
      "execution_count": 44,
      "outputs": [
        {
          "output_type": "stream",
          "name": "stdout",
          "text": [
            "15\n"
          ]
        }
      ]
    },
    {
      "cell_type": "code",
      "source": [],
      "metadata": {
        "id": "f-liVcn6wdkp"
      },
      "execution_count": null,
      "outputs": []
    }
  ]
}