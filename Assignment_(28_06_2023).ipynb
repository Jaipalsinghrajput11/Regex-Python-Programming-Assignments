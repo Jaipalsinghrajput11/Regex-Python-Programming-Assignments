{
  "nbformat": 4,
  "nbformat_minor": 0,
  "metadata": {
    "colab": {
      "provenance": [],
      "authorship_tag": "ABX9TyMQ3IruQIQxDFau5CH1r11Y",
      "include_colab_link": true
    },
    "kernelspec": {
      "name": "python3",
      "display_name": "Python 3"
    },
    "language_info": {
      "name": "python"
    }
  },
  "cells": [
    {
      "cell_type": "markdown",
      "metadata": {
        "id": "view-in-github",
        "colab_type": "text"
      },
      "source": [
        "<a href=\"https://colab.research.google.com/github/Jaipalsinghrajput11/Regex-Python-Programming-Assignments/blob/main/Assignment_(28_06_2023).ipynb\" target=\"_parent\"><img src=\"https://colab.research.google.com/assets/colab-badge.svg\" alt=\"Open In Colab\"/></a>"
      ]
    },
    {
      "cell_type": "code",
      "execution_count": 1,
      "metadata": {
        "colab": {
          "base_uri": "https://localhost:8080/"
        },
        "id": "Rep9hksu0ZDL",
        "outputId": "22cc9b8b-c69a-43c8-94c4-b1280acd69a3"
      },
      "outputs": [
        {
          "output_type": "stream",
          "name": "stdout",
          "text": [
            "Enter a string: hiii how are you do\n",
            "hiii how are you doing\n"
          ]
        }
      ],
      "source": [
        "def modify_string(word):\n",
        "    if len(word) >= 4 and word[3] in 'aeiouAEIOU':\n",
        "        modified_word = word + 'ing'\n",
        "    else:\n",
        "        modified_word = 'e' + word + 'y'\n",
        "    return modified_word\n",
        "\n",
        "input_string = input(\"Enter a string: \")\n",
        "result = modify_string(input_string)\n",
        "print(result)"
      ]
    },
    {
      "cell_type": "code",
      "source": [],
      "metadata": {
        "id": "hEBr7m_90abZ"
      },
      "execution_count": null,
      "outputs": []
    }
  ]
}